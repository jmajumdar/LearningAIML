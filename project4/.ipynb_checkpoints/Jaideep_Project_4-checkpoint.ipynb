{
 "cells": [
  {
   "cell_type": "markdown",
   "metadata": {
    "id": "PFs08kzXa8xe"
   },
   "source": [
    "## **Description**"
   ]
  },
  {
   "cell_type": "markdown",
   "metadata": {
    "id": "uw3KTgqBazG8"
   },
   "source": [
    "### Background and Context\n",
    "\n",
    "You are a Data Scientist for a tourism company named \"Visit with us\". The Policy Maker of the company wants to enable and establish a viable business model to expand the customer base.\n",
    "\n",
    "A viable business model is a central concept that helps you to understand the existing ways of doing the business and how to change the ways for the benefit of the tourism sector.\n",
    "\n",
    "One of the ways to expand the customer base is to introduce a new offering of packages.\n",
    "\n",
    "Currently, there are 5 types of packages the company is offering - Basic, Standard, Deluxe, Super Deluxe, King. Looking at the data of the last year, we observed that 18% of the customers purchased the packages.\n",
    "\n",
    "However, the marketing cost was quite high because customers were contacted at random without looking at the available information.\n",
    "\n",
    "The company is now planning to launch a new product i.e. Wellness Tourism Package. Wellness Tourism is defined as Travel that allows the traveler to maintain, enhance or kick-start a healthy lifestyle, and support or increase one's sense of well-being.\n",
    "\n",
    "However, this time company wants to harness the available data of existing and potential customers to make the marketing expenditure more efficient.\n",
    "\n",
    "You as a Data Scientist at \"Visit with us\" travel company have to analyze the customers' data and information to provide recommendations to the Policy Maker and Marketing Team and also build a model to predict the potential customer who is going to purchase the newly introduced travel package."
   ]
  },
  {
   "cell_type": "markdown",
   "metadata": {
    "id": "3xHgIkXfbZW8"
   },
   "source": [
    "# **Objective**\n",
    "\n",
    "To predict which customer is more likely to purchase the newly introduced travel package."
   ]
  },
  {
   "cell_type": "markdown",
   "metadata": {
    "id": "FdhASL8U08GB"
   },
   "source": [
    "## **Data Dictionary**\n",
    "\n",
    "Customer details:\n",
    "\n",
    "* CustomerID: Unique customer ID\n",
    "* ProdTaken: Whether the customer has purchased a package or not (0: No, 1: Yes)\n",
    "* Age: Age of customer\n",
    "* TypeofContact: How customer was contacted (Company Invited or Self Inquiry)\n",
    "* CityTier: City tier depends on the development of a city, population, facilities, and living standards. The categories are ordered i.e. Tier 1 > Tier 2 > Tier 3\n",
    "* Occupation: Occupation of customer\n",
    "* Gender: Gender of customer\n",
    "* NumberOfPersonVisiting: Total number of persons planning to take the trip with the customer\n",
    "* PreferredPropertyStar: Preferred hotel property rating by customer\n",
    "* MaritalStatus: Marital status of customer\n",
    "* NumberOfTrips: Average number of trips in a year by customer\n",
    "* Passport: The customer has a passport or not (0: No, 1: Yes)\n",
    "* OwnCar: Whether the customers own a car or not (0: No, 1: Yes)\n",
    "* NumberOfChildrenVisiting: Total number of children with age less than 5 planning to take the trip with the customer\n",
    "* Designation: Designation of the customer in the current organization\n",
    "* MonthlyIncome: Gross monthly income of the customer\n",
    "\n"
   ]
  },
  {
   "cell_type": "markdown",
   "metadata": {
    "id": "PIRvrhePeIXK"
   },
   "source": [
    "# **Project Code**"
   ]
  },
  {
   "cell_type": "code",
   "execution_count": 167,
   "metadata": {
    "id": "OW-0NwHDdzon"
   },
   "outputs": [],
   "source": [
    "# Get all libraries needed for this project\n",
    "import warnings\n",
    "warnings.filterwarnings(\"ignore\")\n",
    "\n",
    "import numpy as np   \n",
    "import pandas as pd    \n",
    "import seaborn as sns\n",
    "import matplotlib.pyplot as plt\n",
    "from sklearn.tree import DecisionTreeClassifier\n",
    "from sklearn.ensemble import BaggingClassifier,RandomForestClassifier,GradientBoostingClassifier,AdaBoostClassifier,StackingClassifier\n",
    "from xgboost import XGBClassifier\n",
    "from sklearn import metrics\n",
    "from sklearn.model_selection import GridSearchCV, train_test_split"
   ]
  },
  {
   "cell_type": "code",
   "execution_count": 217,
   "metadata": {
    "id": "_AywtwA3d_wS"
   },
   "outputs": [],
   "source": [
    "# Load the data from the Excel spreadsheet that has been provided\n",
    "data = pd.read_excel(\"Tourism.xlsx\", sheet_name='Tourism')"
   ]
  },
  {
   "cell_type": "markdown",
   "metadata": {
    "id": "o2kkC0C-mgxr"
   },
   "source": [
    "## **Initial data inspection and Feature Engineering**"
   ]
  },
  {
   "cell_type": "code",
   "execution_count": 218,
   "metadata": {
    "colab": {
     "base_uri": "https://localhost:8080/",
     "height": 241
    },
    "id": "KwcwIJt4gPrn",
    "outputId": "3dcd97b4-a7ca-4ac0-e56e-d7049e67861d"
   },
   "outputs": [
    {
     "data": {
      "text/html": [
       "<div>\n",
       "<style scoped>\n",
       "    .dataframe tbody tr th:only-of-type {\n",
       "        vertical-align: middle;\n",
       "    }\n",
       "\n",
       "    .dataframe tbody tr th {\n",
       "        vertical-align: top;\n",
       "    }\n",
       "\n",
       "    .dataframe thead th {\n",
       "        text-align: right;\n",
       "    }\n",
       "</style>\n",
       "<table border=\"1\" class=\"dataframe\">\n",
       "  <thead>\n",
       "    <tr style=\"text-align: right;\">\n",
       "      <th></th>\n",
       "      <th>CustomerID</th>\n",
       "      <th>ProdTaken</th>\n",
       "      <th>Age</th>\n",
       "      <th>TypeofContact</th>\n",
       "      <th>CityTier</th>\n",
       "      <th>DurationOfPitch</th>\n",
       "      <th>Occupation</th>\n",
       "      <th>Gender</th>\n",
       "      <th>NumberOfPersonVisiting</th>\n",
       "      <th>NumberOfFollowups</th>\n",
       "      <th>ProductPitched</th>\n",
       "      <th>PreferredPropertyStar</th>\n",
       "      <th>MaritalStatus</th>\n",
       "      <th>NumberOfTrips</th>\n",
       "      <th>Passport</th>\n",
       "      <th>PitchSatisfactionScore</th>\n",
       "      <th>OwnCar</th>\n",
       "      <th>NumberOfChildrenVisiting</th>\n",
       "      <th>Designation</th>\n",
       "      <th>MonthlyIncome</th>\n",
       "    </tr>\n",
       "  </thead>\n",
       "  <tbody>\n",
       "    <tr>\n",
       "      <th>0</th>\n",
       "      <td>200000</td>\n",
       "      <td>1</td>\n",
       "      <td>41.0</td>\n",
       "      <td>Self Enquiry</td>\n",
       "      <td>3</td>\n",
       "      <td>6.0</td>\n",
       "      <td>Salaried</td>\n",
       "      <td>Female</td>\n",
       "      <td>3</td>\n",
       "      <td>3.0</td>\n",
       "      <td>Deluxe</td>\n",
       "      <td>3.0</td>\n",
       "      <td>Single</td>\n",
       "      <td>1.0</td>\n",
       "      <td>1</td>\n",
       "      <td>2</td>\n",
       "      <td>1</td>\n",
       "      <td>0.0</td>\n",
       "      <td>Manager</td>\n",
       "      <td>20993.0</td>\n",
       "    </tr>\n",
       "    <tr>\n",
       "      <th>1</th>\n",
       "      <td>200001</td>\n",
       "      <td>0</td>\n",
       "      <td>49.0</td>\n",
       "      <td>Company Invited</td>\n",
       "      <td>1</td>\n",
       "      <td>14.0</td>\n",
       "      <td>Salaried</td>\n",
       "      <td>Male</td>\n",
       "      <td>3</td>\n",
       "      <td>4.0</td>\n",
       "      <td>Deluxe</td>\n",
       "      <td>4.0</td>\n",
       "      <td>Divorced</td>\n",
       "      <td>2.0</td>\n",
       "      <td>0</td>\n",
       "      <td>3</td>\n",
       "      <td>1</td>\n",
       "      <td>2.0</td>\n",
       "      <td>Manager</td>\n",
       "      <td>20130.0</td>\n",
       "    </tr>\n",
       "    <tr>\n",
       "      <th>2</th>\n",
       "      <td>200002</td>\n",
       "      <td>1</td>\n",
       "      <td>37.0</td>\n",
       "      <td>Self Enquiry</td>\n",
       "      <td>1</td>\n",
       "      <td>8.0</td>\n",
       "      <td>Free Lancer</td>\n",
       "      <td>Male</td>\n",
       "      <td>3</td>\n",
       "      <td>4.0</td>\n",
       "      <td>Basic</td>\n",
       "      <td>3.0</td>\n",
       "      <td>Single</td>\n",
       "      <td>7.0</td>\n",
       "      <td>1</td>\n",
       "      <td>3</td>\n",
       "      <td>0</td>\n",
       "      <td>0.0</td>\n",
       "      <td>Executive</td>\n",
       "      <td>17090.0</td>\n",
       "    </tr>\n",
       "    <tr>\n",
       "      <th>3</th>\n",
       "      <td>200003</td>\n",
       "      <td>0</td>\n",
       "      <td>33.0</td>\n",
       "      <td>Company Invited</td>\n",
       "      <td>1</td>\n",
       "      <td>9.0</td>\n",
       "      <td>Salaried</td>\n",
       "      <td>Female</td>\n",
       "      <td>2</td>\n",
       "      <td>3.0</td>\n",
       "      <td>Basic</td>\n",
       "      <td>3.0</td>\n",
       "      <td>Divorced</td>\n",
       "      <td>2.0</td>\n",
       "      <td>1</td>\n",
       "      <td>5</td>\n",
       "      <td>1</td>\n",
       "      <td>1.0</td>\n",
       "      <td>Executive</td>\n",
       "      <td>17909.0</td>\n",
       "    </tr>\n",
       "    <tr>\n",
       "      <th>4</th>\n",
       "      <td>200004</td>\n",
       "      <td>0</td>\n",
       "      <td>NaN</td>\n",
       "      <td>Self Enquiry</td>\n",
       "      <td>1</td>\n",
       "      <td>8.0</td>\n",
       "      <td>Small Business</td>\n",
       "      <td>Male</td>\n",
       "      <td>2</td>\n",
       "      <td>3.0</td>\n",
       "      <td>Basic</td>\n",
       "      <td>4.0</td>\n",
       "      <td>Divorced</td>\n",
       "      <td>1.0</td>\n",
       "      <td>0</td>\n",
       "      <td>5</td>\n",
       "      <td>1</td>\n",
       "      <td>0.0</td>\n",
       "      <td>Executive</td>\n",
       "      <td>18468.0</td>\n",
       "    </tr>\n",
       "  </tbody>\n",
       "</table>\n",
       "</div>"
      ],
      "text/plain": [
       "   CustomerID  ProdTaken  ...  Designation MonthlyIncome\n",
       "0      200000          1  ...      Manager       20993.0\n",
       "1      200001          0  ...      Manager       20130.0\n",
       "2      200002          1  ...    Executive       17090.0\n",
       "3      200003          0  ...    Executive       17909.0\n",
       "4      200004          0  ...    Executive       18468.0\n",
       "\n",
       "[5 rows x 20 columns]"
      ]
     },
     "execution_count": 218,
     "metadata": {
      "tags": []
     },
     "output_type": "execute_result"
    }
   ],
   "source": [
    "# Take a peek at a few rows at the top\n",
    "data.head()"
   ]
  },
  {
   "cell_type": "code",
   "execution_count": 219,
   "metadata": {
    "colab": {
     "base_uri": "https://localhost:8080/",
     "height": 275
    },
    "id": "2CQ9AClsg6L6",
    "outputId": "4c574694-4459-485e-9bb5-d23cf2cc1abe"
   },
   "outputs": [
    {
     "data": {
      "text/html": [
       "<div>\n",
       "<style scoped>\n",
       "    .dataframe tbody tr th:only-of-type {\n",
       "        vertical-align: middle;\n",
       "    }\n",
       "\n",
       "    .dataframe tbody tr th {\n",
       "        vertical-align: top;\n",
       "    }\n",
       "\n",
       "    .dataframe thead th {\n",
       "        text-align: right;\n",
       "    }\n",
       "</style>\n",
       "<table border=\"1\" class=\"dataframe\">\n",
       "  <thead>\n",
       "    <tr style=\"text-align: right;\">\n",
       "      <th></th>\n",
       "      <th>CustomerID</th>\n",
       "      <th>ProdTaken</th>\n",
       "      <th>Age</th>\n",
       "      <th>TypeofContact</th>\n",
       "      <th>CityTier</th>\n",
       "      <th>DurationOfPitch</th>\n",
       "      <th>Occupation</th>\n",
       "      <th>Gender</th>\n",
       "      <th>NumberOfPersonVisiting</th>\n",
       "      <th>NumberOfFollowups</th>\n",
       "      <th>ProductPitched</th>\n",
       "      <th>PreferredPropertyStar</th>\n",
       "      <th>MaritalStatus</th>\n",
       "      <th>NumberOfTrips</th>\n",
       "      <th>Passport</th>\n",
       "      <th>PitchSatisfactionScore</th>\n",
       "      <th>OwnCar</th>\n",
       "      <th>NumberOfChildrenVisiting</th>\n",
       "      <th>Designation</th>\n",
       "      <th>MonthlyIncome</th>\n",
       "    </tr>\n",
       "  </thead>\n",
       "  <tbody>\n",
       "    <tr>\n",
       "      <th>4883</th>\n",
       "      <td>204883</td>\n",
       "      <td>1</td>\n",
       "      <td>49.0</td>\n",
       "      <td>Self Enquiry</td>\n",
       "      <td>3</td>\n",
       "      <td>9.0</td>\n",
       "      <td>Small Business</td>\n",
       "      <td>Male</td>\n",
       "      <td>3</td>\n",
       "      <td>5.0</td>\n",
       "      <td>Deluxe</td>\n",
       "      <td>4.0</td>\n",
       "      <td>Unmarried</td>\n",
       "      <td>2.0</td>\n",
       "      <td>1</td>\n",
       "      <td>1</td>\n",
       "      <td>1</td>\n",
       "      <td>1.0</td>\n",
       "      <td>Manager</td>\n",
       "      <td>26576.0</td>\n",
       "    </tr>\n",
       "    <tr>\n",
       "      <th>4884</th>\n",
       "      <td>204884</td>\n",
       "      <td>1</td>\n",
       "      <td>28.0</td>\n",
       "      <td>Company Invited</td>\n",
       "      <td>1</td>\n",
       "      <td>31.0</td>\n",
       "      <td>Salaried</td>\n",
       "      <td>Male</td>\n",
       "      <td>4</td>\n",
       "      <td>5.0</td>\n",
       "      <td>Basic</td>\n",
       "      <td>3.0</td>\n",
       "      <td>Single</td>\n",
       "      <td>3.0</td>\n",
       "      <td>1</td>\n",
       "      <td>3</td>\n",
       "      <td>1</td>\n",
       "      <td>2.0</td>\n",
       "      <td>Executive</td>\n",
       "      <td>21212.0</td>\n",
       "    </tr>\n",
       "    <tr>\n",
       "      <th>4885</th>\n",
       "      <td>204885</td>\n",
       "      <td>1</td>\n",
       "      <td>52.0</td>\n",
       "      <td>Self Enquiry</td>\n",
       "      <td>3</td>\n",
       "      <td>17.0</td>\n",
       "      <td>Salaried</td>\n",
       "      <td>Female</td>\n",
       "      <td>4</td>\n",
       "      <td>4.0</td>\n",
       "      <td>Standard</td>\n",
       "      <td>4.0</td>\n",
       "      <td>Married</td>\n",
       "      <td>7.0</td>\n",
       "      <td>0</td>\n",
       "      <td>1</td>\n",
       "      <td>1</td>\n",
       "      <td>3.0</td>\n",
       "      <td>Senior Manager</td>\n",
       "      <td>31820.0</td>\n",
       "    </tr>\n",
       "    <tr>\n",
       "      <th>4886</th>\n",
       "      <td>204886</td>\n",
       "      <td>1</td>\n",
       "      <td>19.0</td>\n",
       "      <td>Self Enquiry</td>\n",
       "      <td>3</td>\n",
       "      <td>16.0</td>\n",
       "      <td>Small Business</td>\n",
       "      <td>Male</td>\n",
       "      <td>3</td>\n",
       "      <td>4.0</td>\n",
       "      <td>Basic</td>\n",
       "      <td>3.0</td>\n",
       "      <td>Single</td>\n",
       "      <td>3.0</td>\n",
       "      <td>0</td>\n",
       "      <td>5</td>\n",
       "      <td>0</td>\n",
       "      <td>2.0</td>\n",
       "      <td>Executive</td>\n",
       "      <td>20289.0</td>\n",
       "    </tr>\n",
       "    <tr>\n",
       "      <th>4887</th>\n",
       "      <td>204887</td>\n",
       "      <td>1</td>\n",
       "      <td>36.0</td>\n",
       "      <td>Self Enquiry</td>\n",
       "      <td>1</td>\n",
       "      <td>14.0</td>\n",
       "      <td>Salaried</td>\n",
       "      <td>Male</td>\n",
       "      <td>4</td>\n",
       "      <td>4.0</td>\n",
       "      <td>Basic</td>\n",
       "      <td>4.0</td>\n",
       "      <td>Unmarried</td>\n",
       "      <td>3.0</td>\n",
       "      <td>1</td>\n",
       "      <td>3</td>\n",
       "      <td>1</td>\n",
       "      <td>2.0</td>\n",
       "      <td>Executive</td>\n",
       "      <td>24041.0</td>\n",
       "    </tr>\n",
       "  </tbody>\n",
       "</table>\n",
       "</div>"
      ],
      "text/plain": [
       "      CustomerID  ProdTaken  ...     Designation MonthlyIncome\n",
       "4883      204883          1  ...         Manager       26576.0\n",
       "4884      204884          1  ...       Executive       21212.0\n",
       "4885      204885          1  ...  Senior Manager       31820.0\n",
       "4886      204886          1  ...       Executive       20289.0\n",
       "4887      204887          1  ...       Executive       24041.0\n",
       "\n",
       "[5 rows x 20 columns]"
      ]
     },
     "execution_count": 219,
     "metadata": {
      "tags": []
     },
     "output_type": "execute_result"
    }
   ],
   "source": [
    "# Take a peek at a few rows at the bottom\n",
    "data.tail()"
   ]
  },
  {
   "cell_type": "code",
   "execution_count": 220,
   "metadata": {
    "colab": {
     "base_uri": "https://localhost:8080/"
    },
    "id": "ma42nUOshnqT",
    "outputId": "b57a2593-d346-4119-b21d-8f1d8efe45a6"
   },
   "outputs": [
    {
     "name": "stdout",
     "output_type": "stream",
     "text": [
      "<class 'pandas.core.frame.DataFrame'>\n",
      "RangeIndex: 4888 entries, 0 to 4887\n",
      "Data columns (total 20 columns):\n",
      " #   Column                    Non-Null Count  Dtype  \n",
      "---  ------                    --------------  -----  \n",
      " 0   CustomerID                4888 non-null   int64  \n",
      " 1   ProdTaken                 4888 non-null   int64  \n",
      " 2   Age                       4662 non-null   float64\n",
      " 3   TypeofContact             4863 non-null   object \n",
      " 4   CityTier                  4888 non-null   int64  \n",
      " 5   DurationOfPitch           4637 non-null   float64\n",
      " 6   Occupation                4888 non-null   object \n",
      " 7   Gender                    4888 non-null   object \n",
      " 8   NumberOfPersonVisiting    4888 non-null   int64  \n",
      " 9   NumberOfFollowups         4843 non-null   float64\n",
      " 10  ProductPitched            4888 non-null   object \n",
      " 11  PreferredPropertyStar     4862 non-null   float64\n",
      " 12  MaritalStatus             4888 non-null   object \n",
      " 13  NumberOfTrips             4748 non-null   float64\n",
      " 14  Passport                  4888 non-null   int64  \n",
      " 15  PitchSatisfactionScore    4888 non-null   int64  \n",
      " 16  OwnCar                    4888 non-null   int64  \n",
      " 17  NumberOfChildrenVisiting  4822 non-null   float64\n",
      " 18  Designation               4888 non-null   object \n",
      " 19  MonthlyIncome             4655 non-null   float64\n",
      "dtypes: float64(7), int64(7), object(6)\n",
      "memory usage: 763.9+ KB\n"
     ]
    }
   ],
   "source": [
    "# Let's get some more info on the data itself\n",
    "data.info()"
   ]
  },
  {
   "cell_type": "markdown",
   "metadata": {
    "id": "cNVOjkDdjNXn"
   },
   "source": [
    "There are 4888 rows of data with 20 columns.\n",
    "\n",
    "The target variable in this case is `'ProdTaken'`, which indicates whether the customer bought a package or not.\n",
    "\n",
    "A lot of the data entries are actually categorical data, for which we will need to do some pre-processing to convert the string values to numerical data.\n",
    "1. TypeofContact\n",
    "2. Occupation\n",
    "3. Gender\n",
    "4. ProductPitched\n",
    "5. MaritalStatus\n",
    "6. Designation\n",
    "\n",
    "There are other columns that are categorical with numeric data.\n",
    "1. ProdTaken (target variable)\n",
    "2. CityTier\n",
    "3. PreferredPropertyStar\n",
    "4. Passport\n",
    "5. OwnCar\n",
    "\n",
    "The following columns are numerical and continuous.\n",
    "1. Age\n",
    "2. DurationOfPitch\n",
    "3. NumberOfPersonVisiting\n",
    "4. NumberOfFollowups\n",
    "5. NumberOfTrips\n",
    "6. PitchSatisfactionScore\n",
    "7. NumberOfChildrenVisiting\n",
    "8. MonthlyIncome\n",
    "\n",
    "The `'CustomerID'` is a unique identifier for a customer and doesn't have much bearing on the outcome, hence it can be dropped at some point.\n",
    "\n",
    "There appear to be a few columns with less than 4888 number of non-null rows of data. So, there is some missing data. We can verify using the isna() function call.\n"
   ]
  },
  {
   "cell_type": "code",
   "execution_count": 221,
   "metadata": {
    "colab": {
     "base_uri": "https://localhost:8080/"
    },
    "id": "077asgPfiWJz",
    "outputId": "15165f6d-8822-44f9-f762-56120e9c74b4"
   },
   "outputs": [
    {
     "data": {
      "text/plain": [
       "CustomerID                    0\n",
       "ProdTaken                     0\n",
       "Age                         226\n",
       "TypeofContact                25\n",
       "CityTier                      0\n",
       "DurationOfPitch             251\n",
       "Occupation                    0\n",
       "Gender                        0\n",
       "NumberOfPersonVisiting        0\n",
       "NumberOfFollowups            45\n",
       "ProductPitched                0\n",
       "PreferredPropertyStar        26\n",
       "MaritalStatus                 0\n",
       "NumberOfTrips               140\n",
       "Passport                      0\n",
       "PitchSatisfactionScore        0\n",
       "OwnCar                        0\n",
       "NumberOfChildrenVisiting     66\n",
       "Designation                   0\n",
       "MonthlyIncome               233\n",
       "dtype: int64"
      ]
     },
     "execution_count": 221,
     "metadata": {
      "tags": []
     },
     "output_type": "execute_result"
    }
   ],
   "source": [
    "data.isna().sum()"
   ]
  },
  {
   "cell_type": "markdown",
   "metadata": {
    "id": "GZMb2LGWm3QG"
   },
   "source": [
    "Here is what we can do about the missing values:\n",
    "\n",
    "1. For the numeric data, we can impute a median value for the missing data. This applies to 'Age', 'DurationOfPitch', 'NumberOfFollowups', 'NumberOfTrips', 'NumberOfChildrenVisiting', 'MonthlyIncome'.\n",
    "2. The 'PreferredPropertyStar' column is really a categorical column with data in numeric form, so imputing it with a median number makes less sense. Since there are only 26 missing data, we can drop these rows.\n",
    "3. 'TypeofContact' is categorical data with only 25 missing data. Drop these rows as well.\n"
   ]
  },
  {
   "cell_type": "code",
   "execution_count": 222,
   "metadata": {
    "colab": {
     "base_uri": "https://localhost:8080/",
     "height": 297
    },
    "id": "mEbi9N9ckzGO",
    "outputId": "5e8f95f3-f019-451d-9e19-5a40131f6034"
   },
   "outputs": [
    {
     "data": {
      "text/html": [
       "<div>\n",
       "<style scoped>\n",
       "    .dataframe tbody tr th:only-of-type {\n",
       "        vertical-align: middle;\n",
       "    }\n",
       "\n",
       "    .dataframe tbody tr th {\n",
       "        vertical-align: top;\n",
       "    }\n",
       "\n",
       "    .dataframe thead th {\n",
       "        text-align: right;\n",
       "    }\n",
       "</style>\n",
       "<table border=\"1\" class=\"dataframe\">\n",
       "  <thead>\n",
       "    <tr style=\"text-align: right;\">\n",
       "      <th></th>\n",
       "      <th>count</th>\n",
       "      <th>mean</th>\n",
       "      <th>std</th>\n",
       "      <th>min</th>\n",
       "      <th>25%</th>\n",
       "      <th>50%</th>\n",
       "      <th>75%</th>\n",
       "      <th>max</th>\n",
       "    </tr>\n",
       "  </thead>\n",
       "  <tbody>\n",
       "    <tr>\n",
       "      <th>Age</th>\n",
       "      <td>4662.0</td>\n",
       "      <td>37.622265</td>\n",
       "      <td>9.316387</td>\n",
       "      <td>18.0</td>\n",
       "      <td>31.0</td>\n",
       "      <td>36.0</td>\n",
       "      <td>44.0</td>\n",
       "      <td>61.0</td>\n",
       "    </tr>\n",
       "    <tr>\n",
       "      <th>DurationOfPitch</th>\n",
       "      <td>4637.0</td>\n",
       "      <td>15.490835</td>\n",
       "      <td>8.519643</td>\n",
       "      <td>5.0</td>\n",
       "      <td>9.0</td>\n",
       "      <td>13.0</td>\n",
       "      <td>20.0</td>\n",
       "      <td>127.0</td>\n",
       "    </tr>\n",
       "    <tr>\n",
       "      <th>NumberOfPersonVisiting</th>\n",
       "      <td>4888.0</td>\n",
       "      <td>2.905074</td>\n",
       "      <td>0.724891</td>\n",
       "      <td>1.0</td>\n",
       "      <td>2.0</td>\n",
       "      <td>3.0</td>\n",
       "      <td>3.0</td>\n",
       "      <td>5.0</td>\n",
       "    </tr>\n",
       "    <tr>\n",
       "      <th>NumberOfFollowups</th>\n",
       "      <td>4843.0</td>\n",
       "      <td>3.708445</td>\n",
       "      <td>1.002509</td>\n",
       "      <td>1.0</td>\n",
       "      <td>3.0</td>\n",
       "      <td>4.0</td>\n",
       "      <td>4.0</td>\n",
       "      <td>6.0</td>\n",
       "    </tr>\n",
       "    <tr>\n",
       "      <th>NumberOfTrips</th>\n",
       "      <td>4748.0</td>\n",
       "      <td>3.236521</td>\n",
       "      <td>1.849019</td>\n",
       "      <td>1.0</td>\n",
       "      <td>2.0</td>\n",
       "      <td>3.0</td>\n",
       "      <td>4.0</td>\n",
       "      <td>22.0</td>\n",
       "    </tr>\n",
       "    <tr>\n",
       "      <th>PitchSatisfactionScore</th>\n",
       "      <td>4888.0</td>\n",
       "      <td>3.078151</td>\n",
       "      <td>1.365792</td>\n",
       "      <td>1.0</td>\n",
       "      <td>2.0</td>\n",
       "      <td>3.0</td>\n",
       "      <td>4.0</td>\n",
       "      <td>5.0</td>\n",
       "    </tr>\n",
       "    <tr>\n",
       "      <th>NumberOfChildrenVisiting</th>\n",
       "      <td>4822.0</td>\n",
       "      <td>1.187267</td>\n",
       "      <td>0.857861</td>\n",
       "      <td>0.0</td>\n",
       "      <td>1.0</td>\n",
       "      <td>1.0</td>\n",
       "      <td>2.0</td>\n",
       "      <td>3.0</td>\n",
       "    </tr>\n",
       "    <tr>\n",
       "      <th>MonthlyIncome</th>\n",
       "      <td>4655.0</td>\n",
       "      <td>23619.853491</td>\n",
       "      <td>5380.698361</td>\n",
       "      <td>1000.0</td>\n",
       "      <td>20346.0</td>\n",
       "      <td>22347.0</td>\n",
       "      <td>25571.0</td>\n",
       "      <td>98678.0</td>\n",
       "    </tr>\n",
       "  </tbody>\n",
       "</table>\n",
       "</div>"
      ],
      "text/plain": [
       "                           count          mean  ...      75%      max\n",
       "Age                       4662.0     37.622265  ...     44.0     61.0\n",
       "DurationOfPitch           4637.0     15.490835  ...     20.0    127.0\n",
       "NumberOfPersonVisiting    4888.0      2.905074  ...      3.0      5.0\n",
       "NumberOfFollowups         4843.0      3.708445  ...      4.0      6.0\n",
       "NumberOfTrips             4748.0      3.236521  ...      4.0     22.0\n",
       "PitchSatisfactionScore    4888.0      3.078151  ...      4.0      5.0\n",
       "NumberOfChildrenVisiting  4822.0      1.187267  ...      2.0      3.0\n",
       "MonthlyIncome             4655.0  23619.853491  ...  25571.0  98678.0\n",
       "\n",
       "[8 rows x 8 columns]"
      ]
     },
     "execution_count": 222,
     "metadata": {
      "tags": []
     },
     "output_type": "execute_result"
    }
   ],
   "source": [
    "# Summary of continuous columns\n",
    "data[['Age','DurationOfPitch','NumberOfPersonVisiting','NumberOfFollowups', 'NumberOfTrips', 'PitchSatisfactionScore', 'NumberOfChildrenVisiting', 'MonthlyIncome']].describe().T"
   ]
  },
  {
   "cell_type": "code",
   "execution_count": 223,
   "metadata": {
    "colab": {
     "base_uri": "https://localhost:8080/"
    },
    "id": "E25ny3R_rsjf",
    "outputId": "85ecb840-782b-4b1b-ca37-a945cfabc9f1"
   },
   "outputs": [
    {
     "data": {
      "text/plain": [
       "CustomerID                  4888\n",
       "ProdTaken                      2\n",
       "Age                           44\n",
       "TypeofContact                  2\n",
       "CityTier                       3\n",
       "DurationOfPitch               34\n",
       "Occupation                     4\n",
       "Gender                         3\n",
       "NumberOfPersonVisiting         5\n",
       "NumberOfFollowups              6\n",
       "ProductPitched                 5\n",
       "PreferredPropertyStar          3\n",
       "MaritalStatus                  4\n",
       "NumberOfTrips                 12\n",
       "Passport                       2\n",
       "PitchSatisfactionScore         5\n",
       "OwnCar                         2\n",
       "NumberOfChildrenVisiting       4\n",
       "Designation                    5\n",
       "MonthlyIncome               2475\n",
       "dtype: int64"
      ]
     },
     "execution_count": 223,
     "metadata": {
      "tags": []
     },
     "output_type": "execute_result"
    }
   ],
   "source": [
    "# Number of unique values for the categorical columns\n",
    "data.nunique()"
   ]
  },
  {
   "cell_type": "markdown",
   "metadata": {
    "id": "4a9a1vU3vh1Z"
   },
   "source": [
    "##### An analysis of the unique values for the categorical columns tells us the following:\n",
    "1. ProdTaken is either 1 or 0, representing True/False.\n",
    "2. Only 2 types of TypeOfContact\n",
    "3. Only 3 types of city tiers.\n",
    "4. Only 4 unique occupations\n",
    "5. 3 types of genders -- I will assume that the third gender is intentional\n",
    "6. 5 types of products were pitched\n",
    "7. Only 3 distinct property stars\n",
    "8. 4 different marital status\n",
    "9. Passport is a True/False indicator\n",
    "10. OwnCar is a True/False indicator\n",
    "11. 5 different designations\n",
    "\n",
    "##### Next, we can look at these different values themselves"
   ]
  },
  {
   "cell_type": "code",
   "execution_count": 224,
   "metadata": {
    "colab": {
     "base_uri": "https://localhost:8080/"
    },
    "id": "EFUHBS_uvKcH",
    "outputId": "2e5f9e30-dc26-49ab-de68-81c133febf96"
   },
   "outputs": [
    {
     "name": "stdout",
     "output_type": "stream",
     "text": [
      "0    3968\n",
      "1     920\n",
      "Name: ProdTaken, dtype: int64\n",
      "------------------------------\n",
      "Self Enquiry       3444\n",
      "Company Invited    1419\n",
      "Name: TypeofContact, dtype: int64\n",
      "------------------------------\n",
      "Salaried          2368\n",
      "Small Business    2084\n",
      "Large Business     434\n",
      "Free Lancer          2\n",
      "Name: Occupation, dtype: int64\n",
      "------------------------------\n",
      "Male       2916\n",
      "Female     1817\n",
      "Fe Male     155\n",
      "Name: Gender, dtype: int64\n",
      "------------------------------\n",
      "Basic           1842\n",
      "Deluxe          1732\n",
      "Standard         742\n",
      "Super Deluxe     342\n",
      "King             230\n",
      "Name: ProductPitched, dtype: int64\n",
      "------------------------------\n",
      "Married      2340\n",
      "Divorced      950\n",
      "Single        916\n",
      "Unmarried     682\n",
      "Name: MaritalStatus, dtype: int64\n",
      "------------------------------\n",
      "Executive         1842\n",
      "Manager           1732\n",
      "Senior Manager     742\n",
      "AVP                342\n",
      "VP                 230\n",
      "Name: Designation, dtype: int64\n",
      "------------------------------\n",
      "1    3190\n",
      "3    1500\n",
      "2     198\n",
      "Name: CityTier, dtype: int64\n",
      "------------------------------\n",
      "3.0    2993\n",
      "5.0     956\n",
      "4.0     913\n",
      "Name: PreferredPropertyStar, dtype: int64\n",
      "------------------------------\n",
      "0    3466\n",
      "1    1422\n",
      "Name: Passport, dtype: int64\n",
      "------------------------------\n",
      "1    3032\n",
      "0    1856\n",
      "Name: OwnCar, dtype: int64\n",
      "------------------------------\n"
     ]
    }
   ],
   "source": [
    "cat_cols=['ProdTaken','TypeofContact','Occupation','Gender','ProductPitched','MaritalStatus','Designation','CityTier','PreferredPropertyStar','Passport','OwnCar']\n",
    "\n",
    "for column in cat_cols:\n",
    "    print(data[column].value_counts())\n",
    "    print('-'*30)"
   ]
  },
  {
   "cell_type": "markdown",
   "metadata": {
    "id": "6HP_9f6czzAl"
   },
   "source": [
    "### **Now for some data cleanup**"
   ]
  },
  {
   "cell_type": "code",
   "execution_count": 225,
   "metadata": {
    "id": "nDVqBgorwl1T"
   },
   "outputs": [],
   "source": [
    "# Drop customer Id\n",
    "data.drop(columns=['CustomerID'], inplace=True)"
   ]
  },
  {
   "cell_type": "code",
   "execution_count": 226,
   "metadata": {
    "id": "FGNMN-bO0HPp"
   },
   "outputs": [],
   "source": [
    "# Drop the data for missing data for 'TypeofContact' and 'PreferredPropertyStar'\n",
    "data.dropna(subset=[\"TypeofContact\", \"PreferredPropertyStar\"], inplace=True)"
   ]
  },
  {
   "cell_type": "code",
   "execution_count": 227,
   "metadata": {
    "colab": {
     "base_uri": "https://localhost:8080/"
    },
    "id": "wYxJLPMW2VcD",
    "outputId": "71e88985-905a-4ed2-d926-cbcbaaa42223"
   },
   "outputs": [
    {
     "name": "stdout",
     "output_type": "stream",
     "text": [
      "<class 'pandas.core.frame.DataFrame'>\n",
      "Int64Index: 4837 entries, 0 to 4887\n",
      "Data columns (total 19 columns):\n",
      " #   Column                    Non-Null Count  Dtype  \n",
      "---  ------                    --------------  -----  \n",
      " 0   ProdTaken                 4837 non-null   int64  \n",
      " 1   Age                       4611 non-null   float64\n",
      " 2   TypeofContact             4837 non-null   object \n",
      " 3   CityTier                  4837 non-null   int64  \n",
      " 4   DurationOfPitch           4611 non-null   float64\n",
      " 5   Occupation                4837 non-null   object \n",
      " 6   Gender                    4837 non-null   object \n",
      " 7   NumberOfPersonVisiting    4837 non-null   int64  \n",
      " 8   NumberOfFollowups         4792 non-null   float64\n",
      " 9   ProductPitched            4837 non-null   object \n",
      " 10  PreferredPropertyStar     4837 non-null   float64\n",
      " 11  MaritalStatus             4837 non-null   object \n",
      " 12  NumberOfTrips             4697 non-null   float64\n",
      " 13  Passport                  4837 non-null   int64  \n",
      " 14  PitchSatisfactionScore    4837 non-null   int64  \n",
      " 15  OwnCar                    4837 non-null   int64  \n",
      " 16  NumberOfChildrenVisiting  4771 non-null   float64\n",
      " 17  Designation               4837 non-null   object \n",
      " 18  MonthlyIncome             4629 non-null   float64\n",
      "dtypes: float64(7), int64(6), object(6)\n",
      "memory usage: 755.8+ KB\n"
     ]
    }
   ],
   "source": [
    "data.info()"
   ]
  },
  {
   "cell_type": "markdown",
   "metadata": {
    "id": "XelFaG7V2yCW"
   },
   "source": [
    "**Note**\n",
    "We started off with 4888 rows of data. After dropping the rows with missing data, we are still left with 4837 rows, which means we only dropped 51 records, or a mere 1% of records."
   ]
  },
  {
   "cell_type": "code",
   "execution_count": 228,
   "metadata": {
    "colab": {
     "base_uri": "https://localhost:8080/"
    },
    "id": "QBbn5tD52cr7",
    "outputId": "2546a0ec-99fd-4abc-b8a6-ccfecff1560f"
   },
   "outputs": [
    {
     "data": {
      "text/plain": [
       "ProdTaken                   0\n",
       "Age                         0\n",
       "TypeofContact               0\n",
       "CityTier                    0\n",
       "DurationOfPitch             0\n",
       "Occupation                  0\n",
       "Gender                      0\n",
       "NumberOfPersonVisiting      0\n",
       "NumberOfFollowups           0\n",
       "ProductPitched              0\n",
       "PreferredPropertyStar       0\n",
       "MaritalStatus               0\n",
       "NumberOfTrips               0\n",
       "Passport                    0\n",
       "PitchSatisfactionScore      0\n",
       "OwnCar                      0\n",
       "NumberOfChildrenVisiting    0\n",
       "Designation                 0\n",
       "MonthlyIncome               0\n",
       "dtype: int64"
      ]
     },
     "execution_count": 228,
     "metadata": {
      "tags": []
     },
     "output_type": "execute_result"
    }
   ],
   "source": [
    "# Now we need to impute some of the continuous numerical data by replacing them with median values\n",
    "numeric_cols = ['Age','DurationOfPitch','NumberOfFollowups','NumberOfTrips','NumberOfChildrenVisiting','MonthlyIncome']\n",
    "data[numeric_cols] = data[numeric_cols].transform(lambda x: x.fillna(x.median()))\n",
    "data.isna().sum()"
   ]
  },
  {
   "cell_type": "code",
   "execution_count": 229,
   "metadata": {
    "colab": {
     "base_uri": "https://localhost:8080/"
    },
    "id": "IedY8IVe5hEy",
    "outputId": "7e0e1539-7bb7-48c7-c6f3-97c717c172b2"
   },
   "outputs": [
    {
     "name": "stdout",
     "output_type": "stream",
     "text": [
      "<class 'pandas.core.frame.DataFrame'>\n",
      "Int64Index: 4837 entries, 0 to 4887\n",
      "Data columns (total 19 columns):\n",
      " #   Column                    Non-Null Count  Dtype  \n",
      "---  ------                    --------------  -----  \n",
      " 0   ProdTaken                 4837 non-null   int64  \n",
      " 1   Age                       4837 non-null   float64\n",
      " 2   TypeofContact             4837 non-null   object \n",
      " 3   CityTier                  4837 non-null   int64  \n",
      " 4   DurationOfPitch           4837 non-null   float64\n",
      " 5   Occupation                4837 non-null   object \n",
      " 6   Gender                    4837 non-null   object \n",
      " 7   NumberOfPersonVisiting    4837 non-null   int64  \n",
      " 8   NumberOfFollowups         4837 non-null   float64\n",
      " 9   ProductPitched            4837 non-null   object \n",
      " 10  PreferredPropertyStar     4837 non-null   float64\n",
      " 11  MaritalStatus             4837 non-null   object \n",
      " 12  NumberOfTrips             4837 non-null   float64\n",
      " 13  Passport                  4837 non-null   int64  \n",
      " 14  PitchSatisfactionScore    4837 non-null   int64  \n",
      " 15  OwnCar                    4837 non-null   int64  \n",
      " 16  NumberOfChildrenVisiting  4837 non-null   float64\n",
      " 17  Designation               4837 non-null   object \n",
      " 18  MonthlyIncome             4837 non-null   float64\n",
      "dtypes: float64(7), int64(6), object(6)\n",
      "memory usage: 755.8+ KB\n"
     ]
    }
   ],
   "source": [
    "data.info()"
   ]
  },
  {
   "cell_type": "markdown",
   "metadata": {
    "id": "Q2sT2fm86fGG"
   },
   "source": [
    "We now have confirmation that there are no missing values in the data."
   ]
  },
  {
   "cell_type": "code",
   "execution_count": 230,
   "metadata": {
    "colab": {
     "base_uri": "https://localhost:8080/",
     "height": 297
    },
    "id": "TiBn7-Bk6REn",
    "outputId": "ef24dbfb-752b-479c-8450-7412d391ada0"
   },
   "outputs": [
    {
     "data": {
      "text/html": [
       "<div>\n",
       "<style scoped>\n",
       "    .dataframe tbody tr th:only-of-type {\n",
       "        vertical-align: middle;\n",
       "    }\n",
       "\n",
       "    .dataframe tbody tr th {\n",
       "        vertical-align: top;\n",
       "    }\n",
       "\n",
       "    .dataframe thead th {\n",
       "        text-align: right;\n",
       "    }\n",
       "</style>\n",
       "<table border=\"1\" class=\"dataframe\">\n",
       "  <thead>\n",
       "    <tr style=\"text-align: right;\">\n",
       "      <th></th>\n",
       "      <th>count</th>\n",
       "      <th>mean</th>\n",
       "      <th>std</th>\n",
       "      <th>min</th>\n",
       "      <th>25%</th>\n",
       "      <th>50%</th>\n",
       "      <th>75%</th>\n",
       "      <th>max</th>\n",
       "    </tr>\n",
       "  </thead>\n",
       "  <tbody>\n",
       "    <tr>\n",
       "      <th>Age</th>\n",
       "      <td>4837.0</td>\n",
       "      <td>37.516229</td>\n",
       "      <td>9.069167</td>\n",
       "      <td>18.0</td>\n",
       "      <td>31.0</td>\n",
       "      <td>36.0</td>\n",
       "      <td>43.0</td>\n",
       "      <td>61.0</td>\n",
       "    </tr>\n",
       "    <tr>\n",
       "      <th>DurationOfPitch</th>\n",
       "      <td>4837.0</td>\n",
       "      <td>15.380401</td>\n",
       "      <td>8.336915</td>\n",
       "      <td>5.0</td>\n",
       "      <td>9.0</td>\n",
       "      <td>13.0</td>\n",
       "      <td>19.0</td>\n",
       "      <td>127.0</td>\n",
       "    </tr>\n",
       "    <tr>\n",
       "      <th>NumberOfPersonVisiting</th>\n",
       "      <td>4837.0</td>\n",
       "      <td>2.904900</td>\n",
       "      <td>0.724191</td>\n",
       "      <td>1.0</td>\n",
       "      <td>2.0</td>\n",
       "      <td>3.0</td>\n",
       "      <td>3.0</td>\n",
       "      <td>5.0</td>\n",
       "    </tr>\n",
       "    <tr>\n",
       "      <th>NumberOfFollowups</th>\n",
       "      <td>4837.0</td>\n",
       "      <td>3.708910</td>\n",
       "      <td>0.994832</td>\n",
       "      <td>1.0</td>\n",
       "      <td>3.0</td>\n",
       "      <td>4.0</td>\n",
       "      <td>4.0</td>\n",
       "      <td>6.0</td>\n",
       "    </tr>\n",
       "    <tr>\n",
       "      <th>NumberOfTrips</th>\n",
       "      <td>4837.0</td>\n",
       "      <td>3.224933</td>\n",
       "      <td>1.820483</td>\n",
       "      <td>1.0</td>\n",
       "      <td>2.0</td>\n",
       "      <td>3.0</td>\n",
       "      <td>4.0</td>\n",
       "      <td>22.0</td>\n",
       "    </tr>\n",
       "    <tr>\n",
       "      <th>PitchSatisfactionScore</th>\n",
       "      <td>4837.0</td>\n",
       "      <td>3.076907</td>\n",
       "      <td>1.366123</td>\n",
       "      <td>1.0</td>\n",
       "      <td>2.0</td>\n",
       "      <td>3.0</td>\n",
       "      <td>4.0</td>\n",
       "      <td>5.0</td>\n",
       "    </tr>\n",
       "    <tr>\n",
       "      <th>NumberOfChildrenVisiting</th>\n",
       "      <td>4837.0</td>\n",
       "      <td>1.183998</td>\n",
       "      <td>0.850758</td>\n",
       "      <td>0.0</td>\n",
       "      <td>1.0</td>\n",
       "      <td>1.0</td>\n",
       "      <td>2.0</td>\n",
       "      <td>3.0</td>\n",
       "    </tr>\n",
       "    <tr>\n",
       "      <th>MonthlyIncome</th>\n",
       "      <td>4837.0</td>\n",
       "      <td>23471.238991</td>\n",
       "      <td>5071.299404</td>\n",
       "      <td>1000.0</td>\n",
       "      <td>20470.0</td>\n",
       "      <td>22295.0</td>\n",
       "      <td>25374.0</td>\n",
       "      <td>98678.0</td>\n",
       "    </tr>\n",
       "  </tbody>\n",
       "</table>\n",
       "</div>"
      ],
      "text/plain": [
       "                           count          mean  ...      75%      max\n",
       "Age                       4837.0     37.516229  ...     43.0     61.0\n",
       "DurationOfPitch           4837.0     15.380401  ...     19.0    127.0\n",
       "NumberOfPersonVisiting    4837.0      2.904900  ...      3.0      5.0\n",
       "NumberOfFollowups         4837.0      3.708910  ...      4.0      6.0\n",
       "NumberOfTrips             4837.0      3.224933  ...      4.0     22.0\n",
       "PitchSatisfactionScore    4837.0      3.076907  ...      4.0      5.0\n",
       "NumberOfChildrenVisiting  4837.0      1.183998  ...      2.0      3.0\n",
       "MonthlyIncome             4837.0  23471.238991  ...  25374.0  98678.0\n",
       "\n",
       "[8 rows x 8 columns]"
      ]
     },
     "execution_count": 230,
     "metadata": {
      "tags": []
     },
     "output_type": "execute_result"
    }
   ],
   "source": [
    "# Let's reinspect all of the continuous columns\n",
    "data[['Age','DurationOfPitch','NumberOfPersonVisiting','NumberOfFollowups', 'NumberOfTrips', 'PitchSatisfactionScore', 'NumberOfChildrenVisiting', 'MonthlyIncome']].describe().T"
   ]
  },
  {
   "cell_type": "markdown",
   "metadata": {
    "id": "JJjWVHlG8edp"
   },
   "source": [
    "#### It is now time to replace all the categorical string data with numeric data.\n",
    "The following columns need to be processed. \n",
    "* TypeofContact\n",
    "* Occupation\n",
    "* Gender\n",
    "* ProductPitched\n",
    "* MaritalStatus\n",
    "* Designation"
   ]
  },
  {
   "cell_type": "code",
   "execution_count": 231,
   "metadata": {
    "colab": {
     "base_uri": "https://localhost:8080/"
    },
    "id": "HYcECB447W6Q",
    "outputId": "1758ed6f-5703-4e0a-d0f0-c39f133d617f"
   },
   "outputs": [
    {
     "name": "stdout",
     "output_type": "stream",
     "text": [
      "Self Enquiry       3422\n",
      "Company Invited    1415\n",
      "Name: TypeofContact, dtype: int64\n",
      "0    3422\n",
      "1    1415\n",
      "Name: TypeofContact_num, dtype: int64\n"
     ]
    }
   ],
   "source": [
    "# Let's cleanup the TypeofContact column. Put the numeric values in a separate column. We will drop the original object column later.\n",
    "def getNumericContact(x):\n",
    "    if ( x == 'Self Enquiry' ):\n",
    "        return 0\n",
    "    else:\n",
    "        return 1\n",
    "    \n",
    "data['TypeofContact_num'] = data['TypeofContact'].apply(getNumericContact)\n",
    "print(data['TypeofContact'].value_counts())\n",
    "print(data['TypeofContact_num'].value_counts())"
   ]
  },
  {
   "cell_type": "code",
   "execution_count": 232,
   "metadata": {
    "colab": {
     "base_uri": "https://localhost:8080/"
    },
    "id": "__1Id9Cf9mYy",
    "outputId": "961d42ef-4d11-4628-c923-319894dfb964"
   },
   "outputs": [
    {
     "name": "stdout",
     "output_type": "stream",
     "text": [
      "Salaried          2347\n",
      "Small Business    2056\n",
      "Large Business     432\n",
      "Free Lancer          2\n",
      "Name: Occupation, dtype: int64\n",
      "0    2347\n",
      "1    2056\n",
      "2     432\n",
      "3       2\n",
      "Name: Occupation_num, dtype: int64\n"
     ]
    }
   ],
   "source": [
    "# Let's cleanup the Occupation column. Put the numeric values in a separate column. We will drop the original object column later.\n",
    "def getNumericOccupation(x):\n",
    "    if ( x == 'Salaried' ):\n",
    "        return 0\n",
    "    elif ( x == 'Small Business'):\n",
    "        return 1\n",
    "    elif ( x == 'Large Business'):\n",
    "        return 2\n",
    "    else:\n",
    "        return 3\n",
    "    \n",
    "data['Occupation_num'] = data['Occupation'].apply(getNumericOccupation)\n",
    "print(data['Occupation'].value_counts())\n",
    "print(data['Occupation_num'].value_counts())"
   ]
  },
  {
   "cell_type": "code",
   "execution_count": 233,
   "metadata": {
    "colab": {
     "base_uri": "https://localhost:8080/"
    },
    "id": "eVVTuXBo-daD",
    "outputId": "e189b1ef-d006-43c6-b5b1-1bc8d24afd17"
   },
   "outputs": [
    {
     "name": "stdout",
     "output_type": "stream",
     "text": [
      "Male       2887\n",
      "Female     1795\n",
      "Fe Male     155\n",
      "Name: Gender, dtype: int64\n",
      "0    2887\n",
      "1    1795\n",
      "2     155\n",
      "Name: Gender_num, dtype: int64\n"
     ]
    }
   ],
   "source": [
    "# Let's cleanup the Gender column. Put the numeric values in a separate column. We will drop the original object column later.\n",
    "def getNumericGender(x):\n",
    "    if ( x == 'Male' ):\n",
    "        return 0\n",
    "    elif ( x == 'Female'):\n",
    "        return 1\n",
    "    else:\n",
    "        return 2\n",
    "    \n",
    "data['Gender_num'] = data['Gender'].apply(getNumericGender)\n",
    "print(data['Gender'].value_counts())\n",
    "print(data['Gender_num'].value_counts())"
   ]
  },
  {
   "cell_type": "code",
   "execution_count": 234,
   "metadata": {
    "colab": {
     "base_uri": "https://localhost:8080/"
    },
    "id": "LSoDv-GL_b8h",
    "outputId": "61bd2bd0-1254-464b-c414-2baf75f42008"
   },
   "outputs": [
    {
     "name": "stdout",
     "output_type": "stream",
     "text": [
      "Basic           1831\n",
      "Deluxe          1716\n",
      "Standard         741\n",
      "Super Deluxe     342\n",
      "King             207\n",
      "Name: ProductPitched, dtype: int64\n",
      "0    1831\n",
      "1    1716\n",
      "2     741\n",
      "3     342\n",
      "4     207\n",
      "Name: ProductPitched_num, dtype: int64\n"
     ]
    }
   ],
   "source": [
    "# Let's cleanup the ProductPitched column. Put the numeric values in a separate column. We will drop the original object column later.\n",
    "def getNumericProduct(x):\n",
    "    if ( x == 'Basic' ):\n",
    "        return 0\n",
    "    elif ( x == 'Deluxe'):\n",
    "        return 1\n",
    "    elif ( x == 'Standard'):\n",
    "        return 2\n",
    "    elif ( x == 'Super Deluxe'):\n",
    "        return 3\n",
    "    else:\n",
    "        return 4\n",
    "    \n",
    "data['ProductPitched_num'] = data['ProductPitched'].apply(getNumericProduct)\n",
    "print(data['ProductPitched'].value_counts())\n",
    "print(data['ProductPitched_num'].value_counts())"
   ]
  },
  {
   "cell_type": "code",
   "execution_count": 235,
   "metadata": {
    "colab": {
     "base_uri": "https://localhost:8080/"
    },
    "id": "aKgARuM_AqdR",
    "outputId": "6e533f2c-3bdd-495e-a01a-e28a326e77d5"
   },
   "outputs": [
    {
     "name": "stdout",
     "output_type": "stream",
     "text": [
      "Married      2311\n",
      "Divorced      938\n",
      "Single        906\n",
      "Unmarried     682\n",
      "Name: MaritalStatus, dtype: int64\n",
      "0    2311\n",
      "1     938\n",
      "2     906\n",
      "3     682\n",
      "Name: MaritalStatus_num, dtype: int64\n"
     ]
    }
   ],
   "source": [
    "# Let's cleanup the MaritalStatus column. Put the numeric values in a separate column. We will drop the original object column later.\n",
    "def getNumericMaritalStatus(x):\n",
    "    if ( x == 'Married' ):\n",
    "        return 0\n",
    "    elif ( x == 'Divorced'):\n",
    "        return 1\n",
    "    elif ( x == 'Single'):\n",
    "        return 2\n",
    "    else:\n",
    "        return 3\n",
    "    \n",
    "data['MaritalStatus_num'] = data['MaritalStatus'].apply(getNumericMaritalStatus)\n",
    "print(data['MaritalStatus'].value_counts())\n",
    "print(data['MaritalStatus_num'].value_counts())"
   ]
  },
  {
   "cell_type": "code",
   "execution_count": 236,
   "metadata": {
    "colab": {
     "base_uri": "https://localhost:8080/"
    },
    "id": "Nj2mIjduBUDT",
    "outputId": "212ae7bd-43ed-4414-eb70-4758a58ff1c2"
   },
   "outputs": [
    {
     "name": "stdout",
     "output_type": "stream",
     "text": [
      "Executive         1831\n",
      "Manager           1716\n",
      "Senior Manager     741\n",
      "AVP                342\n",
      "VP                 207\n",
      "Name: Designation, dtype: int64\n",
      "0    1831\n",
      "1    1716\n",
      "2     741\n",
      "3     342\n",
      "4     207\n",
      "Name: Designation_num, dtype: int64\n"
     ]
    }
   ],
   "source": [
    "# Let's cleanup the Designation column. Put the numeric values in a separate column. We will drop the original object column later.\n",
    "def getNumericDesignation(x):\n",
    "    if ( x == 'Executive' ):\n",
    "        return 0\n",
    "    elif ( x == 'Manager'):\n",
    "        return 1\n",
    "    elif ( x == 'Senior Manager'):\n",
    "        return 2\n",
    "    elif ( x == 'AVP'):\n",
    "        return 3\n",
    "    else:\n",
    "        return 4\n",
    "    \n",
    "data['Designation_num'] = data['Designation'].apply(getNumericDesignation)\n",
    "print(data['Designation'].value_counts())\n",
    "print(data['Designation_num'].value_counts())"
   ]
  },
  {
   "cell_type": "code",
   "execution_count": 237,
   "metadata": {
    "id": "SACSH5ZSB2C8"
   },
   "outputs": [],
   "source": [
    "# Now let's drop all the categorical object columns\n",
    "cols_to_drop = ['TypeofContact','Occupation','Gender','ProductPitched','MaritalStatus','Designation']\n",
    "data.drop(columns=cols_to_drop, inplace=True)"
   ]
  },
  {
   "cell_type": "code",
   "execution_count": 238,
   "metadata": {
    "colab": {
     "base_uri": "https://localhost:8080/"
    },
    "id": "HJeom2_KCdZG",
    "outputId": "b86464b8-c4e9-482e-90f3-d45dbad4da61"
   },
   "outputs": [
    {
     "name": "stdout",
     "output_type": "stream",
     "text": [
      "<class 'pandas.core.frame.DataFrame'>\n",
      "Int64Index: 4837 entries, 0 to 4887\n",
      "Data columns (total 19 columns):\n",
      " #   Column                    Non-Null Count  Dtype  \n",
      "---  ------                    --------------  -----  \n",
      " 0   ProdTaken                 4837 non-null   int64  \n",
      " 1   Age                       4837 non-null   float64\n",
      " 2   CityTier                  4837 non-null   int64  \n",
      " 3   DurationOfPitch           4837 non-null   float64\n",
      " 4   NumberOfPersonVisiting    4837 non-null   int64  \n",
      " 5   NumberOfFollowups         4837 non-null   float64\n",
      " 6   PreferredPropertyStar     4837 non-null   float64\n",
      " 7   NumberOfTrips             4837 non-null   float64\n",
      " 8   Passport                  4837 non-null   int64  \n",
      " 9   PitchSatisfactionScore    4837 non-null   int64  \n",
      " 10  OwnCar                    4837 non-null   int64  \n",
      " 11  NumberOfChildrenVisiting  4837 non-null   float64\n",
      " 12  MonthlyIncome             4837 non-null   float64\n",
      " 13  TypeofContact_num         4837 non-null   int64  \n",
      " 14  Occupation_num            4837 non-null   int64  \n",
      " 15  Gender_num                4837 non-null   int64  \n",
      " 16  ProductPitched_num        4837 non-null   int64  \n",
      " 17  MaritalStatus_num         4837 non-null   int64  \n",
      " 18  Designation_num           4837 non-null   int64  \n",
      "dtypes: float64(7), int64(12)\n",
      "memory usage: 755.8 KB\n"
     ]
    }
   ],
   "source": [
    "data.info()"
   ]
  },
  {
   "cell_type": "markdown",
   "metadata": {
    "id": "IFXBT4B3Cj_-"
   },
   "source": [
    "### We are done with all the cleanup. We have no more categorical data in non-numeric format, and we have no missing data at this point. Further analysis can now proceed."
   ]
  },
  {
   "cell_type": "code",
   "execution_count": 239,
   "metadata": {
    "id": "iUngU-OhCeXB"
   },
   "outputs": [],
   "source": [
    "## Exploratory Data Analysis"
   ]
  },
  {
   "cell_type": "markdown",
   "metadata": {
    "id": "M0i5euwrDAp7"
   },
   "source": [
    "# **Exploratory Data Analysis**\n",
    "\n",
    "## **Univariate Analysis**\n",
    "\n",
    "For the purpose of univariate analysis, I will copy a couple of utility functions that have been used in MLS sessions instead of trying to create my own."
   ]
  },
  {
   "cell_type": "code",
   "execution_count": 240,
   "metadata": {
    "id": "bbN-lXcXC-gp"
   },
   "outputs": [],
   "source": [
    "# >>>> The following code has been borrowed from MLS sessions <<<<<\n",
    "\n",
    "# While doing uni-variate analysis of numerical variables we want to study their central tendency \n",
    "# and dispersion.\n",
    "# Let us write a function that will help us create boxplot and histogram for any input numerical \n",
    "# variable.\n",
    "# This function takes the numerical column as the input and returns the boxplots \n",
    "# and histograms for the variable.\n",
    "\n",
    "def histogram_boxplot(feature, figsize=(15,10), bins = None):\n",
    "    \"\"\" Boxplot and histogram combined\n",
    "    feature: 1-d feature array\n",
    "    figsize: size of fig (default (9,8))\n",
    "    bins: number of bins (default None / auto)\n",
    "    \"\"\"\n",
    "    f2, (ax_box2, ax_hist2) = plt.subplots(nrows = 2, # Number of rows of the subplot grid= 2\n",
    "                                           sharex = True, # x-axis will be shared among all subplots\n",
    "                                           gridspec_kw = {\"height_ratios\": (.25, .75)}, \n",
    "                                           figsize = figsize \n",
    "                                           ) # creating the 2 subplots\n",
    "    sns.boxplot(feature, ax=ax_box2, showmeans=True, color='violet') # boxplot will be created and a star will indicate the mean value of the column\n",
    "    sns.distplot(feature, kde=F, ax=ax_hist2, bins=bins,palette=\"winter\") if bins else sns.distplot(feature, kde=False, ax=ax_hist2) # For histogram\n",
    "    ax_hist2.axvline(np.mean(feature), color='green', linestyle='--') # Add mean to the histogram\n",
    "    ax_hist2.axvline(np.median(feature), color='black', linestyle='-') # Add median to the histogram"
   ]
  },
  {
   "cell_type": "code",
   "execution_count": 241,
   "metadata": {
    "id": "Y0QMtUg7Dtjn"
   },
   "outputs": [],
   "source": [
    "# >>>> The following code has been borrowed from MLS sessions <<<<<\n",
    "\n",
    "def perc_on_bar(feature):\n",
    "    '''\n",
    "    plot\n",
    "    feature: categorical feature\n",
    "    the function won't work if a column is passed in hue parameter\n",
    "    '''\n",
    "    #Creating a countplot for the feature\n",
    "    sns.set(rc={'figure.figsize':(15,7)})\n",
    "    ax=sns.countplot(x=feature, data=data)\n",
    "    \n",
    "    total = len(feature) # length of the column\n",
    "    for p in ax.patches:\n",
    "        percentage = '{:.1f}%'.format(100 * p.get_height()/total) # percentage of each class of the category\n",
    "        x = p.get_x() + p.get_width() / 2 - 0.25 # width of the plot\n",
    "        y = p.get_y() + p.get_height()           # hieght of the plot\n",
    "        ax.annotate(percentage, (x, y), size = 14) # annotate the percantage \n",
    "        \n",
    "    plt.show() # show the plot"
   ]
  },
  {
   "cell_type": "markdown",
   "metadata": {
    "id": "QAwFo7mGEb_e"
   },
   "source": [
    "### Univariate analysis of continuous variables\n",
    "1. Age\n",
    "2. DurationOfPitch\n",
    "3. MonthlyIncome"
   ]
  },
  {
   "cell_type": "code",
   "execution_count": 242,
   "metadata": {
    "colab": {
     "base_uri": "https://localhost:8080/",
     "height": 611
    },
    "id": "Vw4WNUS6ESJW",
    "outputId": "663242d2-5363-406b-a6e3-ea55875f435e"
   },
   "outputs": [
    {
     "data": {
      "image/png": "[encoded data removed]",
      "text/plain": [
       "<Figure size 1080x720 with 2 Axes>"
      ]
     },
     "metadata": {
      "tags": []
     },
     "output_type": "display_data"
    }
   ],
   "source": [
    "# Plot of Age\n",
    "histogram_boxplot(data.Age)"
   ]
  },
  {
   "cell_type": "markdown",
   "metadata": {
    "id": "fjoXcgMBD9i3"
   },
   "source": [
    "The Age data is normally distributed with the greatest concentration around middle to late 30s. There aren't outliers in the data. The customers range from teenagers all the way to people slightly above 60."
   ]
  },
  {
   "cell_type": "code",
   "execution_count": 243,
   "metadata": {
    "colab": {
     "base_uri": "https://localhost:8080/",
     "height": 611
    },
    "id": "6M0MpGUIE7Mn",
    "outputId": "306f2ffd-56af-4820-f85f-94f8bda08231"
   },
   "outputs": [
    {
     "data": {
      "image/png": "[encoded data removed]",
      "text/plain": [
       "<Figure size 1080x720 with 2 Axes>"
      ]
     },
     "metadata": {
      "tags": []
     },
     "output_type": "display_data"
    }
   ],
   "source": [
    "# Plot of DurationOfPitch\n",
    "histogram_boxplot(data.DurationOfPitch)"
   ]
  },
  {
   "cell_type": "markdown",
   "metadata": {
    "id": "g_2-LltLET0F"
   },
   "source": [
    "If you ignore the outliers, most of the sales pitches to customers range between 10 minutes to about 35 minutes, with a majority of them under 20 minutes.\n",
    "\n",
    "Some pitches have gone as long as over 2 hours, but they are the outliers."
   ]
  },
  {
   "cell_type": "code",
   "execution_count": 244,
   "metadata": {
    "colab": {
     "base_uri": "https://localhost:8080/",
     "height": 611
    },
    "id": "zL4NM2-lFGFH",
    "outputId": "25c9b911-a69d-456b-f9ce-68df4a6b8a2b"
   },
   "outputs": [
    {
     "data": {
      "image/png": "[encoded data removed]",
      "text/plain": [
       "<Figure size 1080x720 with 2 Axes>"
      ]
     },
     "metadata": {
      "tags": []
     },
     "output_type": "display_data"
    }
   ],
   "source": [
    "# Plot of MonthlyIncome\n",
    "histogram_boxplot(data.MonthlyIncome)"
   ]
  },
  {
   "cell_type": "markdown",
   "metadata": {
    "id": "TaIl9tifEzXt"
   },
   "source": [
    "Most monthly incomes fall tightly between 15,000 and 40,000 with a majority of them around the 20,000 mark. There are some outliers on either end - the numbers close to 0 could be data errors."
   ]
  },
  {
   "cell_type": "markdown",
   "metadata": {
    "id": "F8_F-75wF-39"
   },
   "source": [
    "### Univariate analysis of non-continuous numeric variables and categorical variables\n",
    "1. NumberOfPersonVisiting\n",
    "2. NumberOfFollowups\n",
    "3. NumberOfTrips\n",
    "4. PitchSatisfactionScore\n",
    "5. NumberOfChildrenVisiting\n"
   ]
  },
  {
   "cell_type": "code",
   "execution_count": 245,
   "metadata": {
    "colab": {
     "base_uri": "https://localhost:8080/",
     "height": 452
    },
    "id": "KsnoEQzyD5XC",
    "outputId": "40405168-5296-40ed-a524-21f8f9081a73"
   },
   "outputs": [
    {
     "data": {
      "image/png": "[encoded data removed]",
      "text/plain": [
       "<Figure size 1080x504 with 1 Axes>"
      ]
     },
     "metadata": {
      "tags": []
     },
     "output_type": "display_data"
    }
   ],
   "source": [
    "perc_on_bar(data.NumberOfPersonVisiting)"
   ]
  },
  {
   "cell_type": "markdown",
   "metadata": {
    "id": "F5tPZI4xFO2D"
   },
   "source": [
    "49.3% of the time, people travel in groups of 3, followed by 28.9% of time people traveling as couples. There are groups of 4 as well 20.9% of the time, but very few people travel alone."
   ]
  },
  {
   "cell_type": "code",
   "execution_count": 246,
   "metadata": {
    "colab": {
     "base_uri": "https://localhost:8080/",
     "height": 448
    },
    "id": "TJ6Mg9MEGvuu",
    "outputId": "c5064f31-ed12-4f75-b90c-97989761187a"
   },
   "outputs": [
    {
     "data": {
      "image/png": "[encoded data removed]",
      "text/plain": [
       "<Figure size 1080x504 with 1 Axes>"
      ]
     },
     "metadata": {
      "tags": []
     },
     "output_type": "display_data"
    }
   ],
   "source": [
    "perc_on_bar(data.NumberOfFollowups)"
   ]
  },
  {
   "cell_type": "markdown",
   "metadata": {
    "id": "RALhxUgjFpPN"
   },
   "source": [
    "The sales team has been diligent with followups with customers, with 43.2% of the customers have been followed up 4 times. If we see followups of 4 and above, then 60% of customers have been followed up.\n",
    "\n",
    "This implies that customers do not tend to buy travel packages unless there is plenty of followup from sales teams."
   ]
  },
  {
   "cell_type": "code",
   "execution_count": 247,
   "metadata": {
    "colab": {
     "base_uri": "https://localhost:8080/",
     "height": 448
    },
    "id": "-zdCRZLZG5si",
    "outputId": "7d55d608-86db-4d94-8c0a-323bd8464e24"
   },
   "outputs": [
    {
     "data": {
      "image/png": "[encoded data removed]",
      "text/plain": [
       "<Figure size 1080x504 with 1 Axes>"
      ]
     },
     "metadata": {
      "tags": []
     },
     "output_type": "display_data"
    }
   ],
   "source": [
    "perc_on_bar(data.NumberOfTrips)"
   ]
  },
  {
   "cell_type": "markdown",
   "metadata": {
    "id": "QUwkukW8GQCG"
   },
   "source": [
    "There is a heavy right skew on the data for the number of trips taken by passengers. Most people have taken 2-3 trips and they make up 55% of all customers. Even the most prolific traveler has not taken more than 8 trips."
   ]
  },
  {
   "cell_type": "code",
   "execution_count": 248,
   "metadata": {
    "colab": {
     "base_uri": "https://localhost:8080/",
     "height": 448
    },
    "id": "fbZG-j3rHAIq",
    "outputId": "e06b36ad-27bf-45ca-c9b2-c3cc37637e50"
   },
   "outputs": [
    {
     "data": {
      "image/png": "[encoded data removed]",
      "text/plain": [
       "<Figure size 1080x504 with 1 Axes>"
      ]
     },
     "metadata": {
      "tags": []
     },
     "output_type": "display_data"
    }
   ],
   "source": [
    "perc_on_bar(data.PitchSatisfactionScore)"
   ]
  },
  {
   "cell_type": "markdown",
   "metadata": {
    "id": "uZakD7KqSm37"
   },
   "source": [
    "The sales pitch satisfaction score is fairly evenly ditributed with a score of 3 being the mode. About 38% of people have given a rating of 4 or above to the sales pitches, which means that the sales team is doing a good job with their pitches."
   ]
  },
  {
   "cell_type": "code",
   "execution_count": 249,
   "metadata": {
    "colab": {
     "base_uri": "https://localhost:8080/",
     "height": 448
    },
    "id": "BVe5XFqsHFJq",
    "outputId": "506b17cc-b47f-4a56-f2ca-a734a7ddc45a"
   },
   "outputs": [
    {
     "data": {
      "image/png": "[encoded data removed]",
      "text/plain": [
       "<Figure size 1080x504 with 1 Axes>"
      ]
     },
     "metadata": {
      "tags": []
     },
     "output_type": "display_data"
    }
   ],
   "source": [
    "perc_on_bar(data.NumberOfChildrenVisiting)"
   ]
  },
  {
   "cell_type": "markdown",
   "metadata": {
    "id": "rOKku2C5TBR9"
   },
   "source": [
    "The number of children visiting has a mode of 1, with 44% of cases covered by that. This is followed by 2 children in 27.4% of cases, and no children in 22% of cases. This is a normal distribution."
   ]
  },
  {
   "cell_type": "markdown",
   "metadata": {
    "id": "mAju59lJHvk2"
   },
   "source": [
    "## **Bivariate Analysis**"
   ]
  },
  {
   "cell_type": "code",
   "execution_count": 250,
   "metadata": {
    "colab": {
     "base_uri": "https://localhost:8080/",
     "height": 728
    },
    "id": "F50wrzCHHJqn",
    "outputId": "6efc316d-d43f-48ff-b40d-d915d43d3b0d"
   },
   "outputs": [
    {
     "data": {
      "image/png": "[encoded data removed]",
      "text/plain": [
       "<Figure size 1152x720 with 1 Axes>"
      ]
     },
     "metadata": {
      "tags": []
     },
     "output_type": "display_data"
    }
   ],
   "source": [
    "# Let's do a heatmap to see if there is correlation between the various features that we need to be worried about\n",
    "sns.set(rc={'figure.figsize':(16,10)})\n",
    "sns.heatmap(data.corr(),\n",
    "            annot=True,\n",
    "            linewidths=.5,\n",
    "            center=0,\n",
    "            cbar=False,\n",
    "            cmap=\"YlGnBu\")\n",
    "plt.show()"
   ]
  },
  {
   "cell_type": "markdown",
   "metadata": {
    "id": "xhRgyt-JLwTD"
   },
   "source": [
    "The Heatmap shows the following\n",
    "1. There is a perfect correlation between ProductPitched_num and Designation_num. We will need to drop one of the features -- we will drop 'Designation_num'.\n",
    "2. There is a strong correlation of 0.83 between MonthlyIncome and ProductPitched_num. I will drop the ProductPitched_num column since it appears that the kind of product pitched depends on the monthly income of a customer.\n",
    "3. There is a strong correlation of 0.61 between NumberOfPersonVisiting and NumberOfChildrenVisiting. I will drop the NumberOfChildrenVisiting column.\n",
    "\n"
   ]
  },
  {
   "cell_type": "code",
   "execution_count": 251,
   "metadata": {
    "colab": {
     "base_uri": "https://localhost:8080/",
     "height": 611
    },
    "id": "OOaGvofWLvnr",
    "outputId": "812f80cd-df30-4953-da14-6a1edf68de85"
   },
   "outputs": [
    {
     "data": {
      "image/png": "[encoded data removed]",
      "text/plain": [
       "<Figure size 1152x720 with 1 Axes>"
      ]
     },
     "metadata": {
      "tags": []
     },
     "output_type": "display_data"
    }
   ],
   "source": [
    "# Let's look at a distribution of age for those who purchase travel package vs. those who don't\n",
    "sns.boxplot(x=data.ProdTaken, y=data.Age, hue=data.ProdTaken);"
   ]
  },
  {
   "cell_type": "markdown",
   "metadata": {
    "id": "GgXcfrRPPKq1"
   },
   "source": [
    "While there is a big overlap of age between people who buy travel package and those who don't, some patterns emerge.\n",
    "1. People over 40 are less likely to buy travel packages.\n",
    "2. People in their late 20s and early 30s tend to buy travel packages."
   ]
  },
  {
   "cell_type": "code",
   "execution_count": 252,
   "metadata": {
    "colab": {
     "base_uri": "https://localhost:8080/",
     "height": 611
    },
    "id": "74G366PEJ5xp",
    "outputId": "7e044c9e-8bf3-4970-a9d0-b56e26537bf9"
   },
   "outputs": [
    {
     "data": {
      "image/png": "[encoded data removed]",
      "text/plain": [
       "<Figure size 1152x720 with 1 Axes>"
      ]
     },
     "metadata": {
      "tags": []
     },
     "output_type": "display_data"
    }
   ],
   "source": [
    "# Let's look at a distribution of monthly income for those who purchase travel package vs. those who don't\n",
    "sns.boxplot(x=data.ProdTaken, y=data.MonthlyIncome, hue=data.ProdTaken);"
   ]
  },
  {
   "cell_type": "markdown",
   "metadata": {
    "id": "QIHWrRIgPxKy"
   },
   "source": [
    "There isn't much to choose from here. The monthly income doesn't appear to greatly influence who buys a travel package and who doesn't.\n",
    "\n",
    "\n",
    "\n"
   ]
  },
  {
   "cell_type": "code",
   "execution_count": 253,
   "metadata": {
    "colab": {
     "base_uri": "https://localhost:8080/",
     "height": 611
    },
    "id": "ka15yMpCQG2i",
    "outputId": "033c46e5-785c-4f77-e624-08b6c17225d3"
   },
   "outputs": [
    {
     "data": {
      "image/png": "[encoded data removed]",
      "text/plain": [
       "<Figure size 1152x720 with 1 Axes>"
      ]
     },
     "metadata": {
      "tags": []
     },
     "output_type": "display_data"
    }
   ],
   "source": [
    "# Let's look at a distribution of duration of pitch for those who purchase travel package vs. those who don't\n",
    "sns.boxplot(x=data.ProdTaken, y=data.DurationOfPitch, hue=data.ProdTaken);"
   ]
  },
  {
   "cell_type": "markdown",
   "metadata": {
    "id": "HNefRjyxQaMN"
   },
   "source": [
    "This plot shows that although shorter duration pitches don't influence travel package buying decision, pitches between 20 to 30 minutes appear to swing people more towards buying a package."
   ]
  },
  {
   "cell_type": "code",
   "execution_count": 254,
   "metadata": {
    "colab": {
     "base_uri": "https://localhost:8080/",
     "height": 611
    },
    "id": "tz7Wolf2Rg5K",
    "outputId": "be097d4b-9d05-488b-f99b-d5ebaad60735"
   },
   "outputs": [
    {
     "data": {
      "image/png": "[encoded data removed]",
      "text/plain": [
       "<Figure size 1152x720 with 1 Axes>"
      ]
     },
     "metadata": {
      "tags": []
     },
     "output_type": "display_data"
    }
   ],
   "source": [
    "# Let's look at a distribution of number of followups for those who purchase travel package vs. those who don't\n",
    "sns.boxplot(x=data.ProdTaken, y=data.NumberOfFollowups, hue=data.ProdTaken);"
   ]
  },
  {
   "cell_type": "markdown",
   "metadata": {
    "id": "BB8siFDzRz7f"
   },
   "source": [
    "Number of follow ups appears to have a significant impact, especially if there are 4-5 followups."
   ]
  },
  {
   "cell_type": "code",
   "execution_count": 255,
   "metadata": {
    "colab": {
     "base_uri": "https://localhost:8080/",
     "height": 445
    },
    "id": "0NGvIV0pXpuH",
    "outputId": "6cf8c39d-627e-48e1-8c02-7158c961e4a4"
   },
   "outputs": [
    {
     "data": {
      "image/png": "[encoded data removed]",
      "text/plain": [
       "<Figure size 1080x504 with 1 Axes>"
      ]
     },
     "metadata": {
      "tags": []
     },
     "output_type": "display_data"
    }
   ],
   "source": [
    "sns.set(rc={'figure.figsize':(15,7)})\n",
    "pd.pivot_table(data=data, index=['TypeofContact_num'], values='ProdTaken', aggfunc=np.sum).plot(kind='bar');"
   ]
  },
  {
   "cell_type": "markdown",
   "metadata": {
    "id": "B4Ee6y_eTfJq"
   },
   "source": [
    "Used a pivot table to count the different types of contacts that have led to people buying a travel package. This shows that contact type of 0, which corresponds to 'Self Enquiry' has resulted in more travel packages getting bought."
   ]
  },
  {
   "cell_type": "code",
   "execution_count": 256,
   "metadata": {
    "colab": {
     "base_uri": "https://localhost:8080/",
     "height": 448
    },
    "id": "NUb1g5ETRDWi",
    "outputId": "13507350-d7b3-4b8d-cf4a-fd3637e355f7"
   },
   "outputs": [
    {
     "data": {
      "image/png": "[encoded data removed]",
      "text/plain": [
       "<Figure size 1080x504 with 1 Axes>"
      ]
     },
     "metadata": {
      "tags": []
     },
     "output_type": "display_data"
    }
   ],
   "source": [
    "# Let's look at a distribution of number of persons visiting for those who purchase travel package vs. those who don't\n",
    "sns.boxplot(x=data.ProdTaken, y=data.NumberOfPersonVisiting, hue=data.ProdTaken);"
   ]
  },
  {
   "cell_type": "markdown",
   "metadata": {
    "id": "_0LdiGULUJIm"
   },
   "source": [
    "This boxplot indicates that the number of people visiting does not seem to have much impact on whether people will buy travel package."
   ]
  },
  {
   "cell_type": "code",
   "execution_count": 257,
   "metadata": {
    "colab": {
     "base_uri": "https://localhost:8080/",
     "height": 445
    },
    "id": "pBlod7RcSTOk",
    "outputId": "30c55c48-8dcb-4414-ff03-be99ccfb8cac"
   },
   "outputs": [
    {
     "data": {
      "image/png": "[encoded data removed]",
      "text/plain": [
       "<Figure size 1080x504 with 1 Axes>"
      ]
     },
     "metadata": {
      "tags": []
     },
     "output_type": "display_data"
    }
   ],
   "source": [
    "sns.set(rc={'figure.figsize':(15,7)})\n",
    "pd.pivot_table(data=data, index=['CityTier'], values='ProdTaken', aggfunc=np.sum).plot(kind='bar');"
   ]
  },
  {
   "cell_type": "markdown",
   "metadata": {
    "id": "9vxxz8vIRZPX"
   },
   "source": [
    "Here is an interesting graph, where people from city tier 2 are not likely to buy travel package, whereas the people from the top tier and the bottom tier city are more likely to buy travel package. "
   ]
  },
  {
   "cell_type": "code",
   "execution_count": 257,
   "metadata": {
    "id": "J4iBfDXPR-_M"
   },
   "outputs": [],
   "source": []
  },
  {
   "cell_type": "markdown",
   "metadata": {
    "id": "ZqnWqCvYYwi9"
   },
   "source": [
    "# **Summary of EDA**\n",
    "\n",
    "* Age is normally distributed with customers ranging from teens to lower 60s.\n",
    "* Median and mean income for customers is in the 15-16K range, although there are a few customers making more than 100K and they are outliers.\n",
    "* Most passengers require multiple followups before they buy travel package.\n",
    "* Travel packages are more likely to be bought by customers who did a self enquiry. This means company invited customers are not interested in travel packages (perhaps because company is paying for travel).\n",
    "* Travel packages are bought by people in Tier 1 and 3 cities, but not from Tier 2 cities. This needs investigation.\n",
    "* Duration of sales pitch appears to have an impact on sales, provided it is 20 minutes or more of sales pitch.\n",
    "* Age has an influence on travel package sales. Older people, especially over 40, tend not to buy travel packages as much.\n",
    "* Designation and product pitched to them has a strong correlation, which needs to be handled through feature engineering.\n"
   ]
  },
  {
   "cell_type": "markdown",
   "metadata": {
    "id": "hE2khR7VNjhf"
   },
   "source": [
    "## **Some more data cleanup to drop the set of correlated features**\n",
    "1. Designation_num\n",
    "2. ProductPitched_num\n",
    "3. NumberOfChildrenVisiting"
   ]
  },
  {
   "cell_type": "code",
   "execution_count": 258,
   "metadata": {
    "id": "ppKNeM61N2r3"
   },
   "outputs": [],
   "source": [
    "cols_to_drop = ['Designation_num','ProductPitched_num','NumberOfChildrenVisiting']\n",
    "data.drop(columns=cols_to_drop, inplace=True)"
   ]
  },
  {
   "cell_type": "code",
   "execution_count": 259,
   "metadata": {
    "colab": {
     "base_uri": "https://localhost:8080/"
    },
    "id": "jI7egqVWhbKN",
    "outputId": "a7d031ab-3398-4210-a61b-8ff397f8b53d"
   },
   "outputs": [
    {
     "name": "stdout",
     "output_type": "stream",
     "text": [
      "<class 'pandas.core.frame.DataFrame'>\n",
      "Int64Index: 4837 entries, 0 to 4887\n",
      "Data columns (total 16 columns):\n",
      " #   Column                  Non-Null Count  Dtype  \n",
      "---  ------                  --------------  -----  \n",
      " 0   ProdTaken               4837 non-null   int64  \n",
      " 1   Age                     4837 non-null   float64\n",
      " 2   CityTier                4837 non-null   int64  \n",
      " 3   DurationOfPitch         4837 non-null   float64\n",
      " 4   NumberOfPersonVisiting  4837 non-null   int64  \n",
      " 5   NumberOfFollowups       4837 non-null   float64\n",
      " 6   PreferredPropertyStar   4837 non-null   float64\n",
      " 7   NumberOfTrips           4837 non-null   float64\n",
      " 8   Passport                4837 non-null   int64  \n",
      " 9   PitchSatisfactionScore  4837 non-null   int64  \n",
      " 10  OwnCar                  4837 non-null   int64  \n",
      " 11  MonthlyIncome           4837 non-null   float64\n",
      " 12  TypeofContact_num       4837 non-null   int64  \n",
      " 13  Occupation_num          4837 non-null   int64  \n",
      " 14  Gender_num              4837 non-null   int64  \n",
      " 15  MaritalStatus_num       4837 non-null   int64  \n",
      "dtypes: float64(6), int64(10)\n",
      "memory usage: 802.4 KB\n"
     ]
    }
   ],
   "source": [
    "# Final data inspection prior to building the models\n",
    "data.info()"
   ]
  },
  {
   "cell_type": "code",
   "execution_count": 260,
   "metadata": {
    "colab": {
     "base_uri": "https://localhost:8080/"
    },
    "id": "UHWcrfh5ncyC",
    "outputId": "4d50794b-3b97-4166-f115-1e5dc0918d19"
   },
   "outputs": [
    {
     "data": {
      "text/plain": [
       "0    3926\n",
       "1     911\n",
       "Name: ProdTaken, dtype: int64"
      ]
     },
     "execution_count": 260,
     "metadata": {
      "tags": []
     },
     "output_type": "execute_result"
    }
   ],
   "source": [
    "data.ProdTaken.value_counts()"
   ]
  },
  {
   "cell_type": "markdown",
   "metadata": {
    "id": "Zu1RJcFLY0oi"
   },
   "source": [
    "# **Split up the data into training and testing set**"
   ]
  },
  {
   "cell_type": "code",
   "execution_count": 160,
   "metadata": {
    "id": "jXXTiVFfYj0O"
   },
   "outputs": [],
   "source": [
    "# Separating features and the target column\n",
    "X = data.drop('ProdTaken', axis=1)\n",
    "y = data['ProdTaken']"
   ]
  },
  {
   "cell_type": "code",
   "execution_count": 138,
   "metadata": {
    "id": "QnS9r1jtZDe-"
   },
   "outputs": [],
   "source": [
    "# Splitting the data into train and test sets in 70:30 ratio\n",
    "X_train, X_test, y_train, y_test = train_test_split(X, y, test_size=0.30, random_state=1, shuffle=True)"
   ]
  },
  {
   "cell_type": "code",
   "execution_count": 139,
   "metadata": {
    "colab": {
     "base_uri": "https://localhost:8080/"
    },
    "id": "sH00ADiPZHjW",
    "outputId": "4a8581fc-d512-4a62-9210-fe0f86608f03"
   },
   "outputs": [
    {
     "data": {
      "text/plain": [
       "((3385, 15), (1452, 15))"
      ]
     },
     "execution_count": 139,
     "metadata": {
      "tags": []
     },
     "output_type": "execute_result"
    }
   ],
   "source": [
    "# Verify that the two datasets have been split up in the 70:30 ratio\n",
    "X_train.shape, X_test.shape"
   ]
  },
  {
   "cell_type": "markdown",
   "metadata": {
    "id": "5UAdwpKdZb-o"
   },
   "source": [
    "The training set has 3385 records, while the testing set has 1452 records. This is out of a total of 4837 records, which makes it truly a 70/30 split."
   ]
  },
  {
   "cell_type": "markdown",
   "metadata": {
    "id": "Bjedh5JIaJOV"
   },
   "source": [
    "# **Now build different models, analyze results, and then improve the model**\n",
    "\n",
    "### In order to analyze the effectiveness of the model, I am going to copy some utility functions shown in MLS sessions and adapt them to create displays in the format that I need.\n"
   ]
  },
  {
   "cell_type": "code",
   "execution_count": 140,
   "metadata": {
    "id": "lnrN0TABbz5h"
   },
   "outputs": [],
   "source": [
    "def showScores(y_actual, y_pred, type=\"Training\") :\n",
    "    '''\n",
    "    A utility function to display the scores for either a test set or for a training set.\n",
    "    Caller should send predicted and actual Y values for either a test set or for a training set, but not both.\n",
    "    '''\n",
    "    accuracy = metrics.accuracy_score(y_actual, y_pred)\n",
    "    precision = metrics.precision_score(y_actual, y_pred)\n",
    "    recall = metrics.recall_score(y_actual, y_pred)\n",
    "    f1 = metrics.f1_score(y_actual, y_pred)\n",
    "    \n",
    "    print(type + \" Set >>>>\")\n",
    "    print(f\"       Accuracy: {accuracy}\")\n",
    "    print(f\"       Recall: {recall}\")\n",
    "    print(f\"       Precision: {precision}\")\n",
    "    print(f\"       F1: {f1}\")\n",
    "    print(f\"       R-square: {metrics.r2_score(y_actual,y_pred)}\")\n",
    "    print(f\"       RMSE: {np.sqrt(metrics.mean_squared_error(y_actual,y_pred))}\")\n"
   ]
  },
  {
   "cell_type": "code",
   "execution_count": 168,
   "metadata": {
    "id": "KACOYWLkaGTk"
   },
   "outputs": [],
   "source": [
    "# >>>> The following code has been borrowed from MLS sessions, and then I have enhanced it <<<<<\n",
    "\n",
    "##  Function to calculate r2_score, RMSE, accuracy, recall, and precision on train and test data\n",
    "def get_model_score(model, flag=True):\n",
    "    '''\n",
    "    model : classifier to predict values of X\n",
    "\n",
    "    '''\n",
    "    # defining an empty list to store train and test results\n",
    "    score_list=[] \n",
    "    \n",
    "    pred_train = model.predict(X_train)\n",
    "    pred_test = model.predict(X_test)\n",
    "\n",
    "    # My adaptation of the original code goes here.\n",
    "    showScores(y_train, pred_train)\n",
    "    showScores(y_test, pred_test, \"Test\")\n",
    "    # End of my code adaptation\n",
    "    \n",
    "    train_r2=metrics.r2_score(y_train,pred_train)\n",
    "    test_r2=metrics.r2_score(y_test,pred_test)\n",
    "    train_rmse=np.sqrt(metrics.mean_squared_error(y_train,pred_train))\n",
    "    test_rmse=np.sqrt(metrics.mean_squared_error(y_test,pred_test))\n",
    "    \n",
    "    #Adding all scores in the list\n",
    "    score_list.extend((train_r2,test_r2,train_rmse,test_rmse))\n",
    "    \n",
    "    # If the flag is set to True then only the following print statements will be dispayed, the default value is True\n",
    "    if flag==True: \n",
    "        print(\"R-square on training set : \",metrics.r2_score(y_train,pred_train))\n",
    "        print(\"R-square on test set : \",metrics.r2_score(y_test,pred_test))\n",
    "        print(\"RMSE on training set : \",np.sqrt(metrics.mean_squared_error(y_train,pred_train)))\n",
    "        print(\"RMSE on test set : \",np.sqrt(metrics.mean_squared_error(y_test,pred_test)))\n",
    "    \n",
    "    # returning the list with train and test scores\n",
    "    return score_list"
   ]
  },
  {
   "cell_type": "code",
   "execution_count": 173,
   "metadata": {
    "id": "-w0bW-PKvVT4"
   },
   "outputs": [],
   "source": [
    "def show_top_features(importances):\n",
    "  '''\n",
    "  This is a utility function copied from the MLS session to display the most significant\n",
    "  features influencing the predicted outcome.\n",
    "  '''\n",
    "  feature_names = X_train.columns\n",
    "  indices = np.argsort(importances)\n",
    "\n",
    "  plt.figure(figsize=(12,12))\n",
    "  plt.title('Feature Importances')\n",
    "  plt.barh(range(len(indices)), importances[indices], color='violet', align='center')\n",
    "  plt.yticks(range(len(indices)), [feature_names[i] for i in indices])\n",
    "  plt.xlabel('Relative Importance')\n",
    "  plt.show()"
   ]
  },
  {
   "cell_type": "markdown",
   "metadata": {
    "id": "8KdXDaUv0U3V"
   },
   "source": [
    "\n",
    "## **What metrics do I need to analyze the effectiveness of the models?**\n",
    "\n",
    "In my opinion, the most important thing for us is to minimize False Negatives. That is because if we have a false negative, we are not going to make a pitch and an offer to a person who would otherwise have purchased the travel package.\n",
    "\n",
    "Since **Recall = TP / (TP+FN)**, when FN is minimized, then recall score is maximized. **Our criterion has to be to maximize the recall score.**"
   ]
  },
  {
   "cell_type": "markdown",
   "metadata": {
    "id": "hM0RJdZca9Hj"
   },
   "source": [
    "## **Decision Tree Model**"
   ]
  },
  {
   "cell_type": "code",
   "execution_count": 169,
   "metadata": {
    "colab": {
     "base_uri": "https://localhost:8080/"
    },
    "id": "r8Z34pBYa4R2",
    "outputId": "b572eb3e-a39a-4a9f-f244-f440e4e3a350"
   },
   "outputs": [
    {
     "data": {
      "text/plain": [
       "DecisionTreeClassifier(ccp_alpha=0.0, class_weight=None, criterion='gini',\n",
       "                       max_depth=None, max_features=None, max_leaf_nodes=None,\n",
       "                       min_impurity_decrease=0.0, min_impurity_split=None,\n",
       "                       min_samples_leaf=1, min_samples_split=2,\n",
       "                       min_weight_fraction_leaf=0.0, presort='deprecated',\n",
       "                       random_state=1, splitter='best')"
      ]
     },
     "execution_count": 169,
     "metadata": {
      "tags": []
     },
     "output_type": "execute_result"
    }
   ],
   "source": [
    "dtree=DecisionTreeClassifier(random_state=1)\n",
    "dtree.fit(X_train,y_train)"
   ]
  },
  {
   "cell_type": "code",
   "execution_count": 170,
   "metadata": {
    "colab": {
     "base_uri": "https://localhost:8080/"
    },
    "id": "B6Hp4xN_bJVs",
    "outputId": "97952ea1-8e01-45f7-9926-494bb86f116e"
   },
   "outputs": [
    {
     "name": "stdout",
     "output_type": "stream",
     "text": [
      "Training Set >>>>\n",
      "       Accuracy: 1.0\n",
      "       Recall: 1.0\n",
      "       Precision: 1.0\n",
      "       F1: 1.0\n",
      "       R-square: 1.0\n",
      "       RMSE: 0.0\n",
      "Test Set >>>>\n",
      "       Accuracy: 0.8787878787878788\n",
      "       Recall: 0.7191011235955056\n",
      "       Precision: 0.6552901023890785\n",
      "       F1: 0.6857142857142857\n",
      "       R-square: 0.19230076328639822\n",
      "       RMSE: 0.3481553119113957\n"
     ]
    }
   ],
   "source": [
    "# Analyze the effectiveness of the model\n",
    "dtree_score=get_model_score(dtree, False)"
   ]
  },
  {
   "cell_type": "markdown",
   "metadata": {
    "id": "7KzIocZIehNZ"
   },
   "source": [
    "It is very clear that the decision tree is overfitting the training data, resulting in much poorer result on the test data set.\n",
    "\n",
    "Next we need to find a better model to try to improve the results."
   ]
  },
  {
   "cell_type": "markdown",
   "metadata": {
    "id": "1BQ1oRWle31g"
   },
   "source": [
    "### **Hyperparameter tuning**"
   ]
  },
  {
   "cell_type": "code",
   "execution_count": 171,
   "metadata": {
    "colab": {
     "base_uri": "https://localhost:8080/"
    },
    "id": "_xppRsfWcz4d",
    "outputId": "6a204948-2685-4467-e5fb-2ee136f4adf0"
   },
   "outputs": [
    {
     "data": {
      "text/plain": [
       "DecisionTreeClassifier(ccp_alpha=0.0, class_weight=None, criterion='gini',\n",
       "                       max_depth=10, max_features=None, max_leaf_nodes=None,\n",
       "                       min_impurity_decrease=0.0, min_impurity_split=None,\n",
       "                       min_samples_leaf=1, min_samples_split=2,\n",
       "                       min_weight_fraction_leaf=0.0, presort='deprecated',\n",
       "                       random_state=1, splitter='best')"
      ]
     },
     "execution_count": 171,
     "metadata": {
      "tags": []
     },
     "output_type": "execute_result"
    }
   ],
   "source": [
    "# Choose the type of classifier. \n",
    "dtree_tuned = DecisionTreeClassifier(random_state=1)\n",
    "\n",
    "# Grid of parameters to choose from\n",
    "parameters = {'max_depth': list(np.arange(2,20)) + [None], \n",
    "              'min_samples_leaf': [1, 3, 5, 7, 10],\n",
    "              'max_leaf_nodes' : [2, 3, 5, 10, 15] + [None],\n",
    "              'min_impurity_decrease': [0.001, 0.01, 0.1, 0.0]\n",
    "             }\n",
    "\n",
    "# Type of scoring used to compare parameter combinations\n",
    "scorer = metrics.make_scorer(metrics.r2_score)\n",
    "\n",
    "# Run the grid search\n",
    "grid_obj = GridSearchCV(dtree_tuned, parameters, scoring=scorer,cv=5)\n",
    "grid_obj = grid_obj.fit(X_train, y_train)\n",
    "\n",
    "# Set the clf to the best combination of parameters\n",
    "dtree_tuned = grid_obj.best_estimator_\n",
    "\n",
    "# Fit the best algorithm to the data. \n",
    "dtree_tuned.fit(X_train, y_train)"
   ]
  },
  {
   "cell_type": "code",
   "execution_count": 172,
   "metadata": {
    "colab": {
     "base_uri": "https://localhost:8080/"
    },
    "id": "Y2yYbsy0fLpJ",
    "outputId": "7ec30702-0a8d-40e9-f627-59254b553c07"
   },
   "outputs": [
    {
     "name": "stdout",
     "output_type": "stream",
     "text": [
      "Training Set >>>>\n",
      "       Accuracy: 0.9488921713441655\n",
      "       Recall: 0.7717391304347826\n",
      "       Precision: 0.9502868068833652\n",
      "       F1: 0.8517566409597258\n",
      "       R-square: 0.6682508084051475\n",
      "       RMSE: 0.22607040641321138\n",
      "Test Set >>>>\n",
      "       Accuracy: 0.8725895316804407\n",
      "       Recall: 0.5917602996254682\n",
      "       Precision: 0.6752136752136753\n",
      "       F1: 0.6307385229540918\n",
      "       R-square: 0.15099796140899813\n",
      "       RMSE: 0.3569460299815075\n"
     ]
    }
   ],
   "source": [
    "dtree_tuned_score=get_model_score(dtree_tuned, False)"
   ]
  },
  {
   "cell_type": "markdown",
   "metadata": {
    "id": "e_wzuqJvt_YL"
   },
   "source": [
    "**Analysis**\n",
    "The tuned model is still overfitting the training data compared to the test data -- recall on training data is 0.77 whereas that for test data is 0.59. However, the overfitting of the training data has certainly reduced.\n",
    "\n",
    "It is interesting to note that the initial decision tree model had a better accuracy and recall score on the test data compared to the tuned model."
   ]
  },
  {
   "cell_type": "code",
   "execution_count": 174,
   "metadata": {
    "colab": {
     "base_uri": "https://localhost:8080/",
     "height": 736
    },
    "id": "2oi7Ufebu-5l",
    "outputId": "3ce6e4db-7c13-4067-97b2-49b8b74ef43a"
   },
   "outputs": [
    {
     "data": {
      "image/png": "[encoded data removed]",
      "text/plain": [
       "<Figure size 864x864 with 1 Axes>"
      ]
     },
     "metadata": {
      "tags": []
     },
     "output_type": "display_data"
    }
   ],
   "source": [
    "# Now let's identify and plot the most significant features that are influencing the predicted results\n",
    "show_top_features(dtree_tuned.feature_importances_)"
   ]
  },
  {
   "cell_type": "markdown",
   "metadata": {
    "id": "sB2KI7L2wjl-"
   },
   "source": [
    "This shows that the top 5 significant features in order of importance are:\n",
    "1. Age\n",
    "2. monthly income of customer\n",
    "3. duration of the pitch given to the customer\n",
    "4. the existence of a passport\n",
    "5. the pitch satisfaction score."
   ]
  },
  {
   "cell_type": "markdown",
   "metadata": {
    "id": "bPS5Y0br1uSW"
   },
   "source": [
    "## **Bagging Model**"
   ]
  },
  {
   "cell_type": "code",
   "execution_count": 180,
   "metadata": {
    "colab": {
     "base_uri": "https://localhost:8080/"
    },
    "id": "-bbENQCm1zOM",
    "outputId": "faa24c25-3025-40da-b847-1362429933b7"
   },
   "outputs": [
    {
     "data": {
      "text/plain": [
       "BaggingClassifier(base_estimator=None, bootstrap=True, bootstrap_features=False,\n",
       "                  max_features=1.0, max_samples=1.0, n_estimators=10,\n",
       "                  n_jobs=None, oob_score=False, random_state=1, verbose=0,\n",
       "                  warm_start=False)"
      ]
     },
     "execution_count": 180,
     "metadata": {
      "tags": []
     },
     "output_type": "execute_result"
    }
   ],
   "source": [
    "bg_estimator=BaggingClassifier(random_state=1)\n",
    "bg_estimator.fit(X_train,y_train)"
   ]
  },
  {
   "cell_type": "code",
   "execution_count": 181,
   "metadata": {
    "colab": {
     "base_uri": "https://localhost:8080/"
    },
    "id": "OuCshJgU19eU",
    "outputId": "50cc5376-1860-4f9c-d0ea-42d7674c4216"
   },
   "outputs": [
    {
     "name": "stdout",
     "output_type": "stream",
     "text": [
      "Training Set >>>>\n",
      "       Accuracy: 0.9905465288035451\n",
      "       Recall: 0.9518633540372671\n",
      "       Precision: 0.998371335504886\n",
      "       F1: 0.9745627980922098\n",
      "       R-square: 0.938635987681877\n",
      "       RMSE: 0.0972289627449298\n",
      "Test Set >>>>\n",
      "       Accuracy: 0.9139118457300276\n",
      "       Recall: 0.599250936329588\n",
      "       Precision: 0.898876404494382\n",
      "       F1: 0.7191011235955056\n",
      "       R-square: 0.42634997392499874\n",
      "       RMSE: 0.29340782925813763\n"
     ]
    }
   ],
   "source": [
    "# Analyze the effectiveness of the model\n",
    "bg_score=get_model_score(bg_estimator, False)"
   ]
  },
  {
   "cell_type": "markdown",
   "metadata": {
    "id": "w9on9oO62Xv1"
   },
   "source": [
    "Once again we have a model that is overfitting the training data, although it's performance is better than the decision tree we had initially received. Still recall for training data is 0.95 whereas recall for test data is a mere 0.599.\n",
    "\n",
    "We need to find a better model."
   ]
  },
  {
   "cell_type": "markdown",
   "metadata": {
    "id": "szDLbYWZ3By3"
   },
   "source": [
    "### **Hyperparameter Tuning**"
   ]
  },
  {
   "cell_type": "code",
   "execution_count": 210,
   "metadata": {
    "colab": {
     "base_uri": "https://localhost:8080/"
    },
    "id": "4NItg33X2wjc",
    "outputId": "78188cef-c462-441e-e4ed-d13904aef409"
   },
   "outputs": [
    {
     "data": {
      "text/plain": [
       "BaggingClassifier(base_estimator=None, bootstrap=True, bootstrap_features=False,\n",
       "                  max_features=0.9, max_samples=0.9, n_estimators=40,\n",
       "                  n_jobs=None, oob_score=False, random_state=1, verbose=0,\n",
       "                  warm_start=False)"
      ]
     },
     "execution_count": 210,
     "metadata": {
      "tags": []
     },
     "output_type": "execute_result"
    }
   ],
   "source": [
    "# Choose the type of classifier. \n",
    "bagging_tuned = BaggingClassifier(random_state=1)\n",
    "\n",
    "# Grid of parameters to choose from\n",
    "## add from article\n",
    "parameters = {'max_samples': [0.7,0.8,0.9,1], \n",
    "              'max_features': [0.7,0.8,0.9,1],\n",
    "              'n_estimators' : [10,20,30,40,50],\n",
    "             }\n",
    "\n",
    "# Type of scoring used to compare parameter combinations\n",
    "acc_scorer = metrics.make_scorer(metrics.recall_score)\n",
    "\n",
    "# Run the grid search\n",
    "grid_obj = GridSearchCV(bagging_tuned, parameters, scoring=acc_scorer,cv=5)\n",
    "grid_obj = grid_obj.fit(X_train, y_train)\n",
    "\n",
    "# Set the clf to the best combination of parameters\n",
    "bagging_tuned = grid_obj.best_estimator_\n",
    "\n",
    "# Fit the best algorithm to the data.\n",
    "bagging_tuned.fit(X_train, y_train)"
   ]
  },
  {
   "cell_type": "code",
   "execution_count": 211,
   "metadata": {
    "colab": {
     "base_uri": "https://localhost:8080/"
    },
    "id": "0jxwbCv13O4Y",
    "outputId": "2ec476ef-9bab-415b-d54b-f047b2b36c1f"
   },
   "outputs": [
    {
     "name": "stdout",
     "output_type": "stream",
     "text": [
      "Training Set >>>>\n",
      "       Accuracy: 0.9988183161004431\n",
      "       Recall: 0.9937888198757764\n",
      "       Precision: 1.0\n",
      "       F1: 0.9968847352024921\n",
      "       R-square: 0.9923294984602347\n",
      "       RMSE: 0.03437562944233703\n",
      "Test Set >>>>\n",
      "       Accuracy: 0.9104683195592287\n",
      "       Recall: 0.5805243445692884\n",
      "       Precision: 0.8959537572254336\n",
      "       F1: 0.7045454545454546\n",
      "       R-square: 0.4034039728819987\n",
      "       RMSE: 0.2992184493656288\n"
     ]
    }
   ],
   "source": [
    "# Analyze the effectiveness of the tuned model\n",
    "bagging_tuned_score=get_model_score(bagging_tuned, False)"
   ]
  },
  {
   "cell_type": "markdown",
   "metadata": {
    "id": "K_h_fmX74ca9"
   },
   "source": [
    "The tuned bagging model is actually performing worse than the initial bagging model that we got earlier. The recall score on the training data has gone up and the recall score on the test data has gone down. The model is clearly overfitting the training model.\n",
    "\n",
    "More work is needed before we can have a reliable model."
   ]
  },
  {
   "cell_type": "markdown",
   "metadata": {
    "id": "SwYc1GAaiGei"
   },
   "source": [
    "## **Random Forest Model**"
   ]
  },
  {
   "cell_type": "code",
   "execution_count": 175,
   "metadata": {
    "colab": {
     "base_uri": "https://localhost:8080/"
    },
    "id": "pUoygT9mflU0",
    "outputId": "c22b6469-0044-4aea-b5db-691108109a0e"
   },
   "outputs": [
    {
     "data": {
      "text/plain": [
       "RandomForestClassifier(bootstrap=True, ccp_alpha=0.0, class_weight=None,\n",
       "                       criterion='gini', max_depth=None, max_features='auto',\n",
       "                       max_leaf_nodes=None, max_samples=None,\n",
       "                       min_impurity_decrease=0.0, min_impurity_split=None,\n",
       "                       min_samples_leaf=1, min_samples_split=2,\n",
       "                       min_weight_fraction_leaf=0.0, n_estimators=100,\n",
       "                       n_jobs=None, oob_score=False, random_state=1, verbose=0,\n",
       "                       warm_start=False)"
      ]
     },
     "execution_count": 175,
     "metadata": {
      "tags": []
     },
     "output_type": "execute_result"
    }
   ],
   "source": [
    "rf_estimator=RandomForestClassifier(random_state=1)\n",
    "rf_estimator.fit(X_train,y_train)"
   ]
  },
  {
   "cell_type": "code",
   "execution_count": 176,
   "metadata": {
    "colab": {
     "base_uri": "https://localhost:8080/"
    },
    "id": "f-Fs1Vc5j2c8",
    "outputId": "9145cbdd-4cf3-47b5-cba9-3e7d4b69a086"
   },
   "outputs": [
    {
     "name": "stdout",
     "output_type": "stream",
     "text": [
      "Training Set >>>>\n",
      "       Accuracy: 1.0\n",
      "       Recall: 1.0\n",
      "       Precision: 1.0\n",
      "       F1: 1.0\n",
      "       R-square: 1.0\n",
      "       RMSE: 0.0\n",
      "Test Set >>>>\n",
      "       Accuracy: 0.9146005509641874\n",
      "       Recall: 0.5842696629213483\n",
      "       Precision: 0.9230769230769231\n",
      "       F1: 0.7155963302752294\n",
      "       R-square: 0.4309391741335987\n",
      "       RMSE: 0.29223184124221074\n"
     ]
    }
   ],
   "source": [
    "# Analyze the effectiveness of the model\n",
    "rf_estimator_score=get_model_score(rf_estimator, False)"
   ]
  },
  {
   "cell_type": "markdown",
   "metadata": {
    "id": "XuTGCrv6xJ75"
   },
   "source": [
    "The random forest model is also clearly overfitting the training data, giving a poor score to the test data.\n",
    "\n",
    "We need to try to improve the model."
   ]
  },
  {
   "cell_type": "markdown",
   "metadata": {
    "id": "5Mk7D14JxcVV"
   },
   "source": [
    "### **Hyperparameter Tuning**"
   ]
  },
  {
   "cell_type": "code",
   "execution_count": 177,
   "metadata": {
    "colab": {
     "base_uri": "https://localhost:8080/"
    },
    "id": "3mIUNeFvkBXA",
    "outputId": "3b7fd63d-ea8d-4fe5-8d4f-55bac496cb53"
   },
   "outputs": [
    {
     "data": {
      "text/plain": [
       "RandomForestClassifier(bootstrap=True, ccp_alpha=0.0, class_weight=None,\n",
       "                       criterion='gini', max_depth=None, max_features=None,\n",
       "                       max_leaf_nodes=None, max_samples=None,\n",
       "                       min_impurity_decrease=0.0, min_impurity_split=None,\n",
       "                       min_samples_leaf=1, min_samples_split=2,\n",
       "                       min_weight_fraction_leaf=0.0, n_estimators=100,\n",
       "                       n_jobs=None, oob_score=False, random_state=1, verbose=0,\n",
       "                       warm_start=False)"
      ]
     },
     "execution_count": 177,
     "metadata": {
      "tags": []
     },
     "output_type": "execute_result"
    }
   ],
   "source": [
    "# Choose the type of classifier. \n",
    "rf_tuned = RandomForestClassifier(random_state=1)\n",
    "\n",
    "# Grid of parameters to choose from\n",
    "parameters = {  \n",
    "                'max_depth':[4, 6, 8, 10, None],\n",
    "                'max_features': ['sqrt','log2',None],\n",
    "                'n_estimators': [80, 90, 100, 110, 120]\n",
    "}\n",
    "\n",
    "# Type of scoring used to compare parameter combinations\n",
    "scorer = metrics.make_scorer(metrics.r2_score)\n",
    "\n",
    "# Run the grid search\n",
    "grid_obj = GridSearchCV(rf_tuned, parameters, scoring=scorer,cv=5)\n",
    "grid_obj = grid_obj.fit(X_train, y_train)\n",
    "\n",
    "# Set the clf to the best combination of parameters\n",
    "rf_tuned = grid_obj.best_estimator_\n",
    "\n",
    "# Fit the best algorithm to the data. \n",
    "rf_tuned.fit(X_train, y_train)"
   ]
  },
  {
   "cell_type": "code",
   "execution_count": 178,
   "metadata": {
    "colab": {
     "base_uri": "https://localhost:8080/"
    },
    "id": "3CJFCYlsytBI",
    "outputId": "f1fb9c67-5022-42f0-dbd6-ba2b98bc94ab"
   },
   "outputs": [
    {
     "name": "stdout",
     "output_type": "stream",
     "text": [
      "Training Set >>>>\n",
      "       Accuracy: 1.0\n",
      "       Recall: 1.0\n",
      "       Precision: 1.0\n",
      "       F1: 1.0\n",
      "       R-square: 1.0\n",
      "       RMSE: 0.0\n",
      "Test Set >>>>\n",
      "       Accuracy: 0.9194214876033058\n",
      "       Recall: 0.6441947565543071\n",
      "       Precision: 0.8865979381443299\n",
      "       F1: 0.7462039045553145\n",
      "       R-square: 0.46306357559379885\n",
      "       RMSE: 0.28386354538174535\n"
     ]
    }
   ],
   "source": [
    "# Let's evaluate the tuned model\n",
    "rf_tuned_score=get_model_score(rf_tuned, False)"
   ]
  },
  {
   "cell_type": "markdown",
   "metadata": {
    "id": "3KHv2Xf90m2H"
   },
   "source": [
    "The tuned model is still clearly overfitting the training data and giving poor results for the test data.\n",
    "\n",
    "However, we do see that the recall scores in this case have improved compared to the initial Random Forest model that I had got. However, there is more work to be done to reduce the overfitting."
   ]
  },
  {
   "cell_type": "code",
   "execution_count": 179,
   "metadata": {
    "colab": {
     "base_uri": "https://localhost:8080/",
     "height": 736
    },
    "id": "G_vHKJXx0n6m",
    "outputId": "97d2db0b-fcc7-4183-d383-20df1e17d831"
   },
   "outputs": [
    {
     "data": {
      "image/png": "[encoded data removed]",
      "text/plain": [
       "<Figure size 864x864 with 1 Axes>"
      ]
     },
     "metadata": {
      "tags": []
     },
     "output_type": "display_data"
    }
   ],
   "source": [
    "# Now let's identify and plot the most significant features that are influencing the predicted results\n",
    "show_top_features(rf_tuned.feature_importances_)"
   ]
  },
  {
   "cell_type": "markdown",
   "metadata": {
    "id": "E6Px1yQr1R7S"
   },
   "source": [
    "The top 5 features identified by this Random Forest model are:\n",
    "1. Monthly income\n",
    "2. Age\n",
    "3. Duration of the pitch made to the customer\n",
    "4. Number of trips (this is different from the Decision Tree model)\n",
    "5. Existence of a passport."
   ]
  },
  {
   "cell_type": "markdown",
   "metadata": {
    "id": "J6UBZ4vPpu1m"
   },
   "source": [
    "# **Boosting Models**\n",
    "\n",
    "## **AdaBoost Classifier**"
   ]
  },
  {
   "cell_type": "code",
   "execution_count": 212,
   "metadata": {
    "colab": {
     "base_uri": "https://localhost:8080/"
    },
    "id": "0nabsliZp5bY",
    "outputId": "76794cfd-6e72-4fe3-cc2c-afd2431d74a0"
   },
   "outputs": [
    {
     "data": {
      "text/plain": [
       "AdaBoostClassifier(algorithm='SAMME.R', base_estimator=None, learning_rate=1.0,\n",
       "                   n_estimators=50, random_state=1)"
      ]
     },
     "execution_count": 212,
     "metadata": {
      "tags": []
     },
     "output_type": "execute_result"
    }
   ],
   "source": [
    "ab_estimator=AdaBoostClassifier(random_state=1)\n",
    "ab_estimator.fit(X_train,y_train)"
   ]
  },
  {
   "cell_type": "code",
   "execution_count": 213,
   "metadata": {
    "colab": {
     "base_uri": "https://localhost:8080/"
    },
    "id": "Wm2ij9DTp9jb",
    "outputId": "207869dc-e25a-4fb3-f100-00a5955523fe"
   },
   "outputs": [
    {
     "name": "stdout",
     "output_type": "stream",
     "text": [
      "Training Set >>>>\n",
      "       Accuracy: 0.8508124076809453\n",
      "       Recall: 0.36180124223602483\n",
      "       Precision: 0.7125382262996942\n",
      "       F1: 0.47991761071060757\n",
      "       R-square: 0.0315991806046213\n",
      "       RMSE: 0.3862480968484565\n",
      "Test Set >>>>\n",
      "       Accuracy: 0.8402203856749312\n",
      "       Recall: 0.30337078651685395\n",
      "       Precision: 0.6377952755905512\n",
      "       F1: 0.4111675126903553\n",
      "       R-square: -0.06469444839520233\n",
      "       RMSE: 0.39972442297796723\n"
     ]
    }
   ],
   "source": [
    "# Evaluate the effectiveness of the model\n",
    "ab_estimator_score=get_model_score(ab_estimator, False)"
   ]
  },
  {
   "cell_type": "markdown",
   "metadata": {
    "id": "KtBwxdzF6VCr"
   },
   "source": [
    "The AdaBoost classifier is not overfitting the training data, and is giving pretty consistent result between the training data set and the testing data set.\n",
    "\n",
    "However, the recall numbers are terrible -- 0.36 for training data, and 0.30 for test data.\n",
    "\n",
    "We will try to find a better model."
   ]
  },
  {
   "cell_type": "markdown",
   "metadata": {
    "id": "0A0mNNR365TB"
   },
   "source": [
    "### **Hyperparameter Tuning**"
   ]
  },
  {
   "cell_type": "code",
   "execution_count": 189,
   "metadata": {
    "colab": {
     "base_uri": "https://localhost:8080/"
    },
    "id": "hD_ALw6DqIRZ",
    "outputId": "d25c9475-594d-4dcc-8ce6-1f92ebab4602"
   },
   "outputs": [
    {
     "data": {
      "text/plain": [
       "AdaBoostClassifier(algorithm='SAMME.R', base_estimator=None, learning_rate=0.5,\n",
       "                   n_estimators=90, random_state=1)"
      ]
     },
     "execution_count": 189,
     "metadata": {
      "tags": []
     },
     "output_type": "execute_result"
    }
   ],
   "source": [
    "# Choose the type of classifier. \n",
    "ab_tuned = AdaBoostClassifier(random_state=1)\n",
    "\n",
    "# Grid of parameters to choose from\n",
    "parameters = {'n_estimators': np.arange(10,100,10), \n",
    "              'learning_rate': [1, 0.1, 0.5, 0.01],\n",
    "              }\n",
    "\n",
    "# Type of scoring used to compare parameter combinations\n",
    "scorer = metrics.make_scorer(metrics.r2_score)\n",
    "\n",
    "# Run the grid search\n",
    "grid_obj = GridSearchCV(ab_tuned, parameters, scoring=scorer,cv=5)\n",
    "grid_obj = grid_obj.fit(X_train, y_train)\n",
    "\n",
    "# Set the clf to the best combination of parameters\n",
    "ab_tuned = grid_obj.best_estimator_\n",
    "\n",
    "# Fit the best algorithm to the data. \n",
    "ab_tuned.fit(X_train, y_train)"
   ]
  },
  {
   "cell_type": "code",
   "execution_count": 190,
   "metadata": {
    "colab": {
     "base_uri": "https://localhost:8080/"
    },
    "id": "BxQQjWX9qOBg",
    "outputId": "3e715080-6a05-4322-d723-d30e86f5f6e4"
   },
   "outputs": [
    {
     "name": "stdout",
     "output_type": "stream",
     "text": [
      "Training Set >>>>\n",
      "       Accuracy: 0.851698670605613\n",
      "       Recall: 0.3198757763975155\n",
      "       Precision: 0.762962962962963\n",
      "       F1: 0.45076586433260396\n",
      "       R-square: 0.03735205675944542\n",
      "       RMSE: 0.3850991163251183\n",
      "Test Set >>>>\n",
      "       Accuracy: 0.8464187327823691\n",
      "       Recall: 0.27340823970037453\n",
      "       Precision: 0.7156862745098039\n",
      "       F1: 0.3956639566395664\n",
      "       R-square: -0.023391646517802345\n",
      "       RMSE: 0.39189445928416855\n"
     ]
    }
   ],
   "source": [
    "# Let's evaluate the tuned model\n",
    "ab_tuned_score=get_model_score(ab_tuned, False)"
   ]
  },
  {
   "cell_type": "markdown",
   "metadata": {
    "id": "4IoZrGDW8Dnk"
   },
   "source": [
    "The tuned model did not get any better. Although there is not much overfitting of training data, the recall score of 0.273 is really unreliable to make any prediction."
   ]
  },
  {
   "cell_type": "code",
   "execution_count": 191,
   "metadata": {
    "colab": {
     "base_uri": "https://localhost:8080/",
     "height": 736
    },
    "id": "u_qiHghJ7xes",
    "outputId": "c82a1874-1451-4311-9adc-1f0004ba5782"
   },
   "outputs": [
    {
     "data": {
      "image/png": "[encoded data removed]",
      "text/plain": [
       "<Figure size 864x864 with 1 Axes>"
      ]
     },
     "metadata": {
      "tags": []
     },
     "output_type": "display_data"
    }
   ],
   "source": [
    "# Now let's identify and plot the most significant features that are influencing the predicted results\n",
    "show_top_features(ab_tuned.feature_importances_)"
   ]
  },
  {
   "cell_type": "markdown",
   "metadata": {
    "id": "cxSEb4W38SoS"
   },
   "source": [
    "Even with the AdaBoost model, where the recall scores are so low, the top features remained consistent.\n",
    "1. Monthly income\n",
    "2. Age\n",
    "3. Number of trips (this is new)\n",
    "4. Number of followups\n",
    "5. Duration of the pitch to the customers."
   ]
  },
  {
   "cell_type": "markdown",
   "metadata": {
    "id": "hSY3CYN38-SZ"
   },
   "source": [
    "## **Gradient Boosting**"
   ]
  },
  {
   "cell_type": "code",
   "execution_count": 192,
   "metadata": {
    "colab": {
     "base_uri": "https://localhost:8080/"
    },
    "id": "sPemFx919Soz",
    "outputId": "fb526ec3-24b9-474e-d9df-489e6145b71f"
   },
   "outputs": [
    {
     "data": {
      "text/plain": [
       "GradientBoostingClassifier(ccp_alpha=0.0, criterion='friedman_mse', init=None,\n",
       "                           learning_rate=0.1, loss='deviance', max_depth=3,\n",
       "                           max_features=None, max_leaf_nodes=None,\n",
       "                           min_impurity_decrease=0.0, min_impurity_split=None,\n",
       "                           min_samples_leaf=1, min_samples_split=2,\n",
       "                           min_weight_fraction_leaf=0.0, n_estimators=100,\n",
       "                           n_iter_no_change=None, presort='deprecated',\n",
       "                           random_state=1, subsample=1.0, tol=0.0001,\n",
       "                           validation_fraction=0.1, verbose=0,\n",
       "                           warm_start=False)"
      ]
     },
     "execution_count": 192,
     "metadata": {
      "tags": []
     },
     "output_type": "execute_result"
    }
   ],
   "source": [
    "gb_estimator=GradientBoostingClassifier(random_state=1)\n",
    "gb_estimator.fit(X_train,y_train)"
   ]
  },
  {
   "cell_type": "code",
   "execution_count": 193,
   "metadata": {
    "colab": {
     "base_uri": "https://localhost:8080/"
    },
    "id": "TxRxo7As9bI6",
    "outputId": "85e90b08-8b29-46dc-843a-dab108a3f81c"
   },
   "outputs": [
    {
     "name": "stdout",
     "output_type": "stream",
     "text": [
      "Training Set >>>>\n",
      "       Accuracy: 0.8833087149187593\n",
      "       Recall: 0.453416149068323\n",
      "       Precision: 0.8716417910447761\n",
      "       F1: 0.5965270684371808\n",
      "       R-square: 0.24253797294816914\n",
      "       RMSE: 0.3416010612999333\n",
      "Test Set >>>>\n",
      "       Accuracy: 0.8629476584022039\n",
      "       Recall: 0.3857677902621723\n",
      "       Precision: 0.7463768115942029\n",
      "       F1: 0.5086419753086419\n",
      "       R-square: 0.08674915848859799\n",
      "       RMSE: 0.37020580978395806\n"
     ]
    }
   ],
   "source": [
    "# Evaluate the effectiveness of the model\n",
    "gb_classifier_score=get_model_score(gb_estimator, False)"
   ]
  },
  {
   "cell_type": "markdown",
   "metadata": {
    "id": "JID7is0f-SQg"
   },
   "source": [
    "There is a little bit of overfitting of the training model going on here with the recall score for the training data being 0.45 and the recall score for test data being 0.385.\n",
    "\n",
    "However, the overall recall numbers are far from satisfactory and we need to try to improve the model."
   ]
  },
  {
   "cell_type": "markdown",
   "metadata": {
    "id": "634vvGJn-1gx"
   },
   "source": [
    "### **Hyperparameter Tuning**"
   ]
  },
  {
   "cell_type": "code",
   "execution_count": 196,
   "metadata": {
    "colab": {
     "base_uri": "https://localhost:8080/"
    },
    "id": "f_HsB7cc-ucK",
    "outputId": "44023b32-8173-448f-b639-96db10a49c18"
   },
   "outputs": [
    {
     "data": {
      "text/plain": [
       "GradientBoostingClassifier(ccp_alpha=0.0, criterion='friedman_mse', init=None,\n",
       "                           learning_rate=0.1, loss='deviance', max_depth=10,\n",
       "                           max_features=0.7, max_leaf_nodes=None,\n",
       "                           min_impurity_decrease=0.0, min_impurity_split=None,\n",
       "                           min_samples_leaf=1, min_samples_split=2,\n",
       "                           min_weight_fraction_leaf=0.0, n_estimators=150,\n",
       "                           n_iter_no_change=None, presort='deprecated',\n",
       "                           random_state=1, subsample=1, tol=0.0001,\n",
       "                           validation_fraction=0.1, verbose=0,\n",
       "                           warm_start=False)"
      ]
     },
     "execution_count": 196,
     "metadata": {
      "tags": []
     },
     "output_type": "execute_result"
    }
   ],
   "source": [
    "# Choose the type of classifier. \n",
    "gb_tuned = GradientBoostingClassifier(random_state=1)\n",
    "\n",
    "# Grid of parameters to choose from\n",
    "parameters = {'n_estimators': np.arange(50,200,25), \n",
    "              'subsample':[0.7,0.8,0.9,1],\n",
    "              'max_features':[0.7,0.8,0.9,1],\n",
    "              'max_depth':[3,5,7,10]\n",
    "              }\n",
    "\n",
    "# Type of scoring used to compare parameter combinations\n",
    "scorer = metrics.make_scorer(metrics.r2_score)\n",
    "\n",
    "# Run the grid search\n",
    "grid_obj = GridSearchCV(gb_tuned, parameters, scoring=scorer,cv=5)\n",
    "grid_obj = grid_obj.fit(X_train, y_train)\n",
    "\n",
    "# Set the clf to the best combination of parameters\n",
    "gb_tuned = grid_obj.best_estimator_\n",
    "\n",
    "# Fit the best algorithm to the data. \n",
    "gb_tuned.fit(X_train, y_train)"
   ]
  },
  {
   "cell_type": "code",
   "execution_count": 197,
   "metadata": {
    "colab": {
     "base_uri": "https://localhost:8080/"
    },
    "id": "5KV-o7hTCS59",
    "outputId": "d24752ec-90a0-4c2c-ba10-e74a6121aa7f"
   },
   "outputs": [
    {
     "name": "stdout",
     "output_type": "stream",
     "text": [
      "Training Set >>>>\n",
      "       Accuracy: 1.0\n",
      "       Recall: 1.0\n",
      "       Precision: 1.0\n",
      "       F1: 1.0\n",
      "       R-square: 1.0\n",
      "       RMSE: 0.0\n",
      "Test Set >>>>\n",
      "       Accuracy: 0.9325068870523416\n",
      "       Recall: 0.6928838951310862\n",
      "       Precision: 0.9203980099502488\n",
      "       F1: 0.7905982905982906\n",
      "       R-square: 0.5502583795571989\n",
      "       RMSE: 0.25979436665882194\n"
     ]
    }
   ],
   "source": [
    "# Let's evaluate the effectiveness of the tuned model\n",
    "gb_tuned_score=get_model_score(gb_tuned, False)"
   ]
  },
  {
   "cell_type": "markdown",
   "metadata": {
    "id": "jUL57p-fDIO9"
   },
   "source": [
    "The tuned model (which took 29 minutes to process), is clearly overfitting the training data set. However, the recall score from the tuned model is significantly better at 0.69 compared to the initial model that gave a recall score of 0.386 on the test data.\n",
    "\n",
    "This means that the tuning was effective, although it took such a long time to process."
   ]
  },
  {
   "cell_type": "code",
   "execution_count": 198,
   "metadata": {
    "colab": {
     "base_uri": "https://localhost:8080/",
     "height": 736
    },
    "id": "sXFW8vdwDSk1",
    "outputId": "33b7f18d-fc83-4858-a856-632d0ae847e4"
   },
   "outputs": [
    {
     "data": {
      "image/png": "[encoded data removed]",
      "text/plain": [
       "<Figure size 864x864 with 1 Axes>"
      ]
     },
     "metadata": {
      "tags": []
     },
     "output_type": "display_data"
    }
   ],
   "source": [
    "# The most important features influencing the predictions from the Gradient Boosting model\n",
    "show_top_features(gb_tuned.feature_importances_)"
   ]
  },
  {
   "cell_type": "markdown",
   "metadata": {
    "id": "YIAeKnK7Hv9o"
   },
   "source": [
    "The most significant features affecting the prediction outcome are\n",
    "1. Monthly income of the customers.\n",
    "2. Age of customers\n",
    "3. The duration for which sales pitches have been made.\n",
    "4. The presence of a passport (means customer is ready to travel aborad).\n",
    "5. The number of trips the customer has taken before."
   ]
  },
  {
   "cell_type": "markdown",
   "metadata": {
    "id": "bMFAVVEH9DHE"
   },
   "source": [
    "## **XGBoost**"
   ]
  },
  {
   "cell_type": "code",
   "execution_count": 199,
   "metadata": {
    "colab": {
     "base_uri": "https://localhost:8080/"
    },
    "id": "5R2OMjAxCkb3",
    "outputId": "4c8d1d4b-9ae7-42d2-e308-aebb924a4540"
   },
   "outputs": [
    {
     "data": {
      "text/plain": [
       "XGBClassifier(base_score=0.5, booster='gbtree', colsample_bylevel=1,\n",
       "              colsample_bynode=1, colsample_bytree=1, gamma=0,\n",
       "              learning_rate=0.1, max_delta_step=0, max_depth=3,\n",
       "              min_child_weight=1, missing=None, n_estimators=100, n_jobs=1,\n",
       "              nthread=None, objective='binary:logistic', random_state=1,\n",
       "              reg_alpha=0, reg_lambda=1, scale_pos_weight=1, seed=None,\n",
       "              silent=None, subsample=1, verbosity=1)"
      ]
     },
     "execution_count": 199,
     "metadata": {
      "tags": []
     },
     "output_type": "execute_result"
    }
   ],
   "source": [
    "xgb_estimator=XGBClassifier(random_state=1)\n",
    "xgb_estimator.fit(X_train,y_train)"
   ]
  },
  {
   "cell_type": "code",
   "execution_count": 200,
   "metadata": {
    "colab": {
     "base_uri": "https://localhost:8080/"
    },
    "id": "0gml7LQlCwiu",
    "outputId": "a822b1c4-b100-4de4-e3c9-1d0228389aa1"
   },
   "outputs": [
    {
     "name": "stdout",
     "output_type": "stream",
     "text": [
      "Training Set >>>>\n",
      "       Accuracy: 0.8768094534711964\n",
      "       Recall: 0.42857142857142855\n",
      "       Precision: 0.8492307692307692\n",
      "       F1: 0.5696594427244581\n",
      "       R-square: 0.20035021447945955\n",
      "       RMSE: 0.3509851086995053\n",
      "Test Set >>>>\n",
      "       Accuracy: 0.8491735537190083\n",
      "       Recall: 0.3146067415730337\n",
      "       Precision: 0.7\n",
      "       F1: 0.4341085271317829\n",
      "       R-square: -0.005034845683402178\n",
      "       RMSE: 0.3883638066053423\n"
     ]
    }
   ],
   "source": [
    "# Evaluate the initial model\n",
    "xgb_estimator_score=get_model_score(xgb_estimator, False)"
   ]
  },
  {
   "cell_type": "markdown",
   "metadata": {
    "id": "xjV2a0zrI9Oy"
   },
   "source": [
    "The inital XGBoost model does not have much overfitting of the training model, hence it is giving us consistent results with the test data as well.\n",
    "\n",
    "However, the recall number from the test data is very low at 0.315, and this needs to be improved. We need to fine tune and get a better model for prediction."
   ]
  },
  {
   "cell_type": "markdown",
   "metadata": {
    "id": "OY435R4_Jel_"
   },
   "source": [
    "### **Hyperparameter Tuning**"
   ]
  },
  {
   "cell_type": "code",
   "execution_count": 201,
   "metadata": {
    "colab": {
     "base_uri": "https://localhost:8080/"
    },
    "id": "xbmLHeTKG8p-",
    "outputId": "0bafa732-cea7-4aee-bdbc-ea4779dd799b"
   },
   "outputs": [
    {
     "data": {
      "text/plain": [
       "XGBClassifier(base_score=0.5, booster='gbtree', colsample_bylevel=0.8,\n",
       "              colsample_bynode=1, colsample_bytree=1, gamma=0,\n",
       "              learning_rate=0.1, max_delta_step=0, max_depth=3,\n",
       "              min_child_weight=1, missing=None, n_estimators=150, n_jobs=1,\n",
       "              nthread=None, objective='binary:logistic', random_state=1,\n",
       "              reg_alpha=0, reg_lambda=1, scale_pos_weight=1, seed=None,\n",
       "              silent=None, subsample=0.7, verbosity=1)"
      ]
     },
     "execution_count": 201,
     "metadata": {
      "tags": []
     },
     "output_type": "execute_result"
    }
   ],
   "source": [
    "# Choose the type of classifier. \n",
    "xgb_tuned = XGBClassifier(random_state=1)\n",
    "\n",
    "# Grid of parameters to choose from\n",
    "parameters = {'n_estimators': [75,100,125,150], \n",
    "              'subsample':[0.7, 0.8, 0.9, 1],\n",
    "              'gamma':[0, 1, 3, 5],\n",
    "              'colsample_bytree':[0.7, 0.8, 0.9, 1],\n",
    "              'colsample_bylevel':[0.7, 0.8, 0.9, 1]\n",
    "              }\n",
    "\n",
    "# Type of scoring used to compare parameter combinations\n",
    "scorer = metrics.make_scorer(metrics.r2_score)\n",
    "\n",
    "# Run the grid search\n",
    "grid_obj = GridSearchCV(xgb_tuned, parameters, scoring=scorer,cv=5)\n",
    "grid_obj = grid_obj.fit(X_train, y_train)\n",
    "\n",
    "# Set the clf to the best combination of parameters\n",
    "xgb_tuned = grid_obj.best_estimator_\n",
    "\n",
    "# Fit the best algorithm to the data. \n",
    "xgb_tuned.fit(X_train, y_train)"
   ]
  },
  {
   "cell_type": "code",
   "execution_count": 202,
   "metadata": {
    "colab": {
     "base_uri": "https://localhost:8080/"
    },
    "id": "w5BzP-AWJpKS",
    "outputId": "016d6714-f363-4c99-d09f-2df849c0f4a7"
   },
   "outputs": [
    {
     "name": "stdout",
     "output_type": "stream",
     "text": [
      "Training Set >>>>\n",
      "       Accuracy: 0.8901033973412112\n",
      "       Recall: 0.4813664596273292\n",
      "       Precision: 0.8908045977011494\n",
      "       F1: 0.625\n",
      "       R-square: 0.28664335680182007\n",
      "       RMSE: 0.33150656503120535\n",
      "Test Set >>>>\n",
      "       Accuracy: 0.8636363636363636\n",
      "       Recall: 0.3895131086142322\n",
      "       Precision: 0.7482014388489209\n",
      "       F1: 0.5123152709359605\n",
      "       R-square: 0.09133835869719797\n",
      "       RMSE: 0.3692744729379982\n"
     ]
    }
   ],
   "source": [
    "# Now let's measure the effectiveness of the tuned model\n",
    "xgb_tuned_score=get_model_score(xgb_tuned, False)"
   ]
  },
  {
   "cell_type": "markdown",
   "metadata": {
    "id": "Xxsgwc7vJl6D"
   },
   "source": [
    "The tuned model has a better recall for the test data set at 0.389. This is not great either but it is better than the initial model. There is still a little bit of overfitting of the training data going on, but it is much less than some of the other models."
   ]
  },
  {
   "cell_type": "code",
   "execution_count": 203,
   "metadata": {
    "colab": {
     "base_uri": "https://localhost:8080/",
     "height": 736
    },
    "id": "6tbjNtZ-J5Ff",
    "outputId": "fdc8b33b-0837-4d18-d69d-95c260b38a37"
   },
   "outputs": [
    {
     "data": {
      "image/png": "[encoded data removed]",
      "text/plain": [
       "<Figure size 864x864 with 1 Axes>"
      ]
     },
     "metadata": {
      "tags": []
     },
     "output_type": "display_data"
    }
   ],
   "source": [
    "# Now let's find the major features that influence the predictions from this model\n",
    "show_top_features(xgb_tuned.feature_importances_)"
   ]
  },
  {
   "cell_type": "markdown",
   "metadata": {
    "id": "ADxppmJ6KIHQ"
   },
   "source": [
    "According to this model, the most important features influencing the prediction outcome are\n",
    "1. Presence of a passport (shows intent for international travel)\n",
    "2. Marital status\n",
    "3. Age\n",
    "4. Number of followups from sales person\n",
    "5. Occupation"
   ]
  },
  {
   "cell_type": "markdown",
   "metadata": {
    "id": "FKu3DUpx9MeY"
   },
   "source": [
    "## **Stacking**\n",
    "\n",
    "Build a stacking model by using the tuned decision tree, tuned random forest, and the tuned gradient boost models. These will in turn be processed with an XGBClassifier."
   ]
  },
  {
   "cell_type": "code",
   "execution_count": 206,
   "metadata": {
    "id": "FZ2MVbmf7-Ww"
   },
   "outputs": [],
   "source": [
    "estimators=[('Decision Tree', dtree_tuned),('Random Forest', rf_tuned),\n",
    "           ('Gradient Boosting', gb_tuned)]\n",
    "final_estimator=XGBClassifier(random_state=1)"
   ]
  },
  {
   "cell_type": "code",
   "execution_count": 207,
   "metadata": {
    "colab": {
     "base_uri": "https://localhost:8080/"
    },
    "id": "ARP1fx3qL-7N",
    "outputId": "6e95b8ee-e195-4be3-d272-3368981c74fb"
   },
   "outputs": [
    {
     "data": {
      "text/plain": [
       "StackingClassifier(cv=5,\n",
       "                   estimators=[('Decision Tree',\n",
       "                                DecisionTreeClassifier(ccp_alpha=0.0,\n",
       "                                                       class_weight=None,\n",
       "                                                       criterion='gini',\n",
       "                                                       max_depth=10,\n",
       "                                                       max_features=None,\n",
       "                                                       max_leaf_nodes=None,\n",
       "                                                       min_impurity_decrease=0.0,\n",
       "                                                       min_impurity_split=None,\n",
       "                                                       min_samples_leaf=1,\n",
       "                                                       min_samples_split=2,\n",
       "                                                       min_weight_fraction_leaf=0.0,\n",
       "                                                       presort='deprecated',\n",
       "                                                       random_state=1,\n",
       "                                                       splitter='best')),\n",
       "                               ('R...\n",
       "                                                 colsample_bynode=1,\n",
       "                                                 colsample_bytree=1, gamma=0,\n",
       "                                                 learning_rate=0.1,\n",
       "                                                 max_delta_step=0, max_depth=3,\n",
       "                                                 min_child_weight=1,\n",
       "                                                 missing=None, n_estimators=100,\n",
       "                                                 n_jobs=1, nthread=None,\n",
       "                                                 objective='binary:logistic',\n",
       "                                                 random_state=1, reg_alpha=0,\n",
       "                                                 reg_lambda=1,\n",
       "                                                 scale_pos_weight=1, seed=None,\n",
       "                                                 silent=None, subsample=1,\n",
       "                                                 verbosity=1),\n",
       "                   n_jobs=None, passthrough=False, stack_method='auto',\n",
       "                   verbose=0)"
      ]
     },
     "execution_count": 207,
     "metadata": {
      "tags": []
     },
     "output_type": "execute_result"
    }
   ],
   "source": [
    "stacking_estimator=StackingClassifier(estimators=estimators, final_estimator=final_estimator,cv=5)\n",
    "stacking_estimator.fit(X_train,y_train)"
   ]
  },
  {
   "cell_type": "code",
   "execution_count": 209,
   "metadata": {
    "colab": {
     "base_uri": "https://localhost:8080/"
    },
    "id": "MXGjPRloMgP_",
    "outputId": "0afbf8aa-7666-445c-8e66-eb80b32f494d"
   },
   "outputs": [
    {
     "name": "stdout",
     "output_type": "stream",
     "text": [
      "Training Set >>>>\n",
      "       Accuracy: 1.0\n",
      "       Recall: 1.0\n",
      "       Precision: 1.0\n",
      "       F1: 1.0\n",
      "       R-square: 1.0\n",
      "       RMSE: 0.0\n",
      "Test Set >>>>\n",
      "       Accuracy: 0.928374655647383\n",
      "       Recall: 0.6966292134831461\n",
      "       Precision: 0.8899521531100478\n",
      "       F1: 0.7815126050420169\n",
      "       R-square: 0.522723178305599\n",
      "       RMSE: 0.2676291171614499\n"
     ]
    }
   ],
   "source": [
    "# Let's evaluate the score from the estimator\n",
    "stacking_estimator_score=get_model_score(stacking_estimator, False)"
   ]
  },
  {
   "cell_type": "markdown",
   "metadata": {
    "id": "RaxKZ2IDNGqx"
   },
   "source": [
    "## **Comparing All Models**"
   ]
  },
  {
   "cell_type": "code",
   "execution_count": 214,
   "metadata": {
    "colab": {
     "base_uri": "https://localhost:8080/"
    },
    "id": "K4T9DD4cNKiz",
    "outputId": "e39597f4-d170-4bc5-9df3-be24f59759cd"
   },
   "outputs": [
    {
     "name": "stdout",
     "output_type": "stream",
     "text": [
      "Training Set >>>>\n",
      "       Accuracy: 1.0\n",
      "       Recall: 1.0\n",
      "       Precision: 1.0\n",
      "       F1: 1.0\n",
      "       R-square: 1.0\n",
      "       RMSE: 0.0\n",
      "Test Set >>>>\n",
      "       Accuracy: 0.8787878787878788\n",
      "       Recall: 0.7191011235955056\n",
      "       Precision: 0.6552901023890785\n",
      "       F1: 0.6857142857142857\n",
      "       R-square: 0.19230076328639822\n",
      "       RMSE: 0.3481553119113957\n",
      "Training Set >>>>\n",
      "       Accuracy: 0.9488921713441655\n",
      "       Recall: 0.7717391304347826\n",
      "       Precision: 0.9502868068833652\n",
      "       F1: 0.8517566409597258\n",
      "       R-square: 0.6682508084051475\n",
      "       RMSE: 0.22607040641321138\n",
      "Test Set >>>>\n",
      "       Accuracy: 0.8725895316804407\n",
      "       Recall: 0.5917602996254682\n",
      "       Precision: 0.6752136752136753\n",
      "       F1: 0.6307385229540918\n",
      "       R-square: 0.15099796140899813\n",
      "       RMSE: 0.3569460299815075\n",
      "Training Set >>>>\n",
      "       Accuracy: 0.9905465288035451\n",
      "       Recall: 0.9518633540372671\n",
      "       Precision: 0.998371335504886\n",
      "       F1: 0.9745627980922098\n",
      "       R-square: 0.938635987681877\n",
      "       RMSE: 0.0972289627449298\n",
      "Test Set >>>>\n",
      "       Accuracy: 0.9139118457300276\n",
      "       Recall: 0.599250936329588\n",
      "       Precision: 0.898876404494382\n",
      "       F1: 0.7191011235955056\n",
      "       R-square: 0.42634997392499874\n",
      "       RMSE: 0.29340782925813763\n",
      "Training Set >>>>\n",
      "       Accuracy: 0.9988183161004431\n",
      "       Recall: 0.9937888198757764\n",
      "       Precision: 1.0\n",
      "       F1: 0.9968847352024921\n",
      "       R-square: 0.9923294984602347\n",
      "       RMSE: 0.03437562944233703\n",
      "Test Set >>>>\n",
      "       Accuracy: 0.9104683195592287\n",
      "       Recall: 0.5805243445692884\n",
      "       Precision: 0.8959537572254336\n",
      "       F1: 0.7045454545454546\n",
      "       R-square: 0.4034039728819987\n",
      "       RMSE: 0.2992184493656288\n",
      "Training Set >>>>\n",
      "       Accuracy: 1.0\n",
      "       Recall: 1.0\n",
      "       Precision: 1.0\n",
      "       F1: 1.0\n",
      "       R-square: 1.0\n",
      "       RMSE: 0.0\n",
      "Test Set >>>>\n",
      "       Accuracy: 0.9146005509641874\n",
      "       Recall: 0.5842696629213483\n",
      "       Precision: 0.9230769230769231\n",
      "       F1: 0.7155963302752294\n",
      "       R-square: 0.4309391741335987\n",
      "       RMSE: 0.29223184124221074\n",
      "Training Set >>>>\n",
      "       Accuracy: 1.0\n",
      "       Recall: 1.0\n",
      "       Precision: 1.0\n",
      "       F1: 1.0\n",
      "       R-square: 1.0\n",
      "       RMSE: 0.0\n",
      "Test Set >>>>\n",
      "       Accuracy: 0.9194214876033058\n",
      "       Recall: 0.6441947565543071\n",
      "       Precision: 0.8865979381443299\n",
      "       F1: 0.7462039045553145\n",
      "       R-square: 0.46306357559379885\n",
      "       RMSE: 0.28386354538174535\n",
      "Training Set >>>>\n",
      "       Accuracy: 0.8508124076809453\n",
      "       Recall: 0.36180124223602483\n",
      "       Precision: 0.7125382262996942\n",
      "       F1: 0.47991761071060757\n",
      "       R-square: 0.0315991806046213\n",
      "       RMSE: 0.3862480968484565\n",
      "Test Set >>>>\n",
      "       Accuracy: 0.8402203856749312\n",
      "       Recall: 0.30337078651685395\n",
      "       Precision: 0.6377952755905512\n",
      "       F1: 0.4111675126903553\n",
      "       R-square: -0.06469444839520233\n",
      "       RMSE: 0.39972442297796723\n",
      "Training Set >>>>\n",
      "       Accuracy: 0.851698670605613\n",
      "       Recall: 0.3198757763975155\n",
      "       Precision: 0.762962962962963\n",
      "       F1: 0.45076586433260396\n",
      "       R-square: 0.03735205675944542\n",
      "       RMSE: 0.3850991163251183\n",
      "Test Set >>>>\n",
      "       Accuracy: 0.8464187327823691\n",
      "       Recall: 0.27340823970037453\n",
      "       Precision: 0.7156862745098039\n",
      "       F1: 0.3956639566395664\n",
      "       R-square: -0.023391646517802345\n",
      "       RMSE: 0.39189445928416855\n",
      "Training Set >>>>\n",
      "       Accuracy: 0.8833087149187593\n",
      "       Recall: 0.453416149068323\n",
      "       Precision: 0.8716417910447761\n",
      "       F1: 0.5965270684371808\n",
      "       R-square: 0.24253797294816914\n",
      "       RMSE: 0.3416010612999333\n",
      "Test Set >>>>\n",
      "       Accuracy: 0.8629476584022039\n",
      "       Recall: 0.3857677902621723\n",
      "       Precision: 0.7463768115942029\n",
      "       F1: 0.5086419753086419\n",
      "       R-square: 0.08674915848859799\n",
      "       RMSE: 0.37020580978395806\n",
      "Training Set >>>>\n",
      "       Accuracy: 1.0\n",
      "       Recall: 1.0\n",
      "       Precision: 1.0\n",
      "       F1: 1.0\n",
      "       R-square: 1.0\n",
      "       RMSE: 0.0\n",
      "Test Set >>>>\n",
      "       Accuracy: 0.9325068870523416\n",
      "       Recall: 0.6928838951310862\n",
      "       Precision: 0.9203980099502488\n",
      "       F1: 0.7905982905982906\n",
      "       R-square: 0.5502583795571989\n",
      "       RMSE: 0.25979436665882194\n",
      "Training Set >>>>\n",
      "       Accuracy: 0.8768094534711964\n",
      "       Recall: 0.42857142857142855\n",
      "       Precision: 0.8492307692307692\n",
      "       F1: 0.5696594427244581\n",
      "       R-square: 0.20035021447945955\n",
      "       RMSE: 0.3509851086995053\n",
      "Test Set >>>>\n",
      "       Accuracy: 0.8491735537190083\n",
      "       Recall: 0.3146067415730337\n",
      "       Precision: 0.7\n",
      "       F1: 0.4341085271317829\n",
      "       R-square: -0.005034845683402178\n",
      "       RMSE: 0.3883638066053423\n",
      "Training Set >>>>\n",
      "       Accuracy: 0.8901033973412112\n",
      "       Recall: 0.4813664596273292\n",
      "       Precision: 0.8908045977011494\n",
      "       F1: 0.625\n",
      "       R-square: 0.28664335680182007\n",
      "       RMSE: 0.33150656503120535\n",
      "Test Set >>>>\n",
      "       Accuracy: 0.8636363636363636\n",
      "       Recall: 0.3895131086142322\n",
      "       Precision: 0.7482014388489209\n",
      "       F1: 0.5123152709359605\n",
      "       R-square: 0.09133835869719797\n",
      "       RMSE: 0.3692744729379982\n",
      "Training Set >>>>\n",
      "       Accuracy: 1.0\n",
      "       Recall: 1.0\n",
      "       Precision: 1.0\n",
      "       F1: 1.0\n",
      "       R-square: 1.0\n",
      "       RMSE: 0.0\n",
      "Test Set >>>>\n",
      "       Accuracy: 0.928374655647383\n",
      "       Recall: 0.6966292134831461\n",
      "       Precision: 0.8899521531100478\n",
      "       F1: 0.7815126050420169\n",
      "       R-square: 0.522723178305599\n",
      "       RMSE: 0.2676291171614499\n"
     ]
    }
   ],
   "source": [
    "# defining list of models\n",
    "models = [dtree, dtree_tuned, bg_estimator, bagging_tuned, rf_estimator, rf_tuned, ab_estimator, ab_tuned, gb_estimator, gb_tuned, xgb_estimator,\n",
    "         xgb_tuned, stacking_estimator]\n",
    "\n",
    "# defining empty lists to add train and test results\n",
    "r2_train = []\n",
    "r2_test = []\n",
    "rmse_train= []\n",
    "rmse_test= []\n",
    "\n",
    "# looping through all the models to get the rmse and r2 scores\n",
    "for model in models:\n",
    "    # accuracy score\n",
    "    j = get_model_score(model,False)\n",
    "    r2_train.append(j[0])\n",
    "    r2_test.append(j[1])\n",
    "    rmse_train.append(j[2])\n",
    "    rmse_test.append(j[3])"
   ]
  },
  {
   "cell_type": "code",
   "execution_count": 215,
   "metadata": {
    "colab": {
     "base_uri": "https://localhost:8080/",
     "height": 452
    },
    "id": "yfFMXUsAOlzU",
    "outputId": "dc238628-4fe8-45df-ba94-3ac9ba4eed44"
   },
   "outputs": [
    {
     "data": {
      "text/html": [
       "<div>\n",
       "<style scoped>\n",
       "    .dataframe tbody tr th:only-of-type {\n",
       "        vertical-align: middle;\n",
       "    }\n",
       "\n",
       "    .dataframe tbody tr th {\n",
       "        vertical-align: top;\n",
       "    }\n",
       "\n",
       "    .dataframe thead th {\n",
       "        text-align: right;\n",
       "    }\n",
       "</style>\n",
       "<table border=\"1\" class=\"dataframe\">\n",
       "  <thead>\n",
       "    <tr style=\"text-align: right;\">\n",
       "      <th></th>\n",
       "      <th>Model</th>\n",
       "      <th>Train_r2</th>\n",
       "      <th>Test_r2</th>\n",
       "      <th>Train_RMSE</th>\n",
       "      <th>Test_RMSE</th>\n",
       "    </tr>\n",
       "  </thead>\n",
       "  <tbody>\n",
       "    <tr>\n",
       "      <th>0</th>\n",
       "      <td>Decision Tree</td>\n",
       "      <td>1.000000</td>\n",
       "      <td>0.192301</td>\n",
       "      <td>0.000000</td>\n",
       "      <td>0.348155</td>\n",
       "    </tr>\n",
       "    <tr>\n",
       "      <th>1</th>\n",
       "      <td>Tuned Decision Tree</td>\n",
       "      <td>0.668251</td>\n",
       "      <td>0.150998</td>\n",
       "      <td>0.226070</td>\n",
       "      <td>0.356946</td>\n",
       "    </tr>\n",
       "    <tr>\n",
       "      <th>2</th>\n",
       "      <td>Bagging</td>\n",
       "      <td>0.938636</td>\n",
       "      <td>0.426350</td>\n",
       "      <td>0.097229</td>\n",
       "      <td>0.293408</td>\n",
       "    </tr>\n",
       "    <tr>\n",
       "      <th>3</th>\n",
       "      <td>Tuned Bagging</td>\n",
       "      <td>0.992329</td>\n",
       "      <td>0.403404</td>\n",
       "      <td>0.034376</td>\n",
       "      <td>0.299218</td>\n",
       "    </tr>\n",
       "    <tr>\n",
       "      <th>4</th>\n",
       "      <td>Random Forest</td>\n",
       "      <td>1.000000</td>\n",
       "      <td>0.430939</td>\n",
       "      <td>0.000000</td>\n",
       "      <td>0.292232</td>\n",
       "    </tr>\n",
       "    <tr>\n",
       "      <th>5</th>\n",
       "      <td>Tuned Random Forest</td>\n",
       "      <td>1.000000</td>\n",
       "      <td>0.463064</td>\n",
       "      <td>0.000000</td>\n",
       "      <td>0.283864</td>\n",
       "    </tr>\n",
       "    <tr>\n",
       "      <th>6</th>\n",
       "      <td>AdaBoost Classifier</td>\n",
       "      <td>0.031599</td>\n",
       "      <td>-0.064694</td>\n",
       "      <td>0.386248</td>\n",
       "      <td>0.399724</td>\n",
       "    </tr>\n",
       "    <tr>\n",
       "      <th>7</th>\n",
       "      <td>Tuned AdaBoost Classifier</td>\n",
       "      <td>0.037352</td>\n",
       "      <td>-0.023392</td>\n",
       "      <td>0.385099</td>\n",
       "      <td>0.391894</td>\n",
       "    </tr>\n",
       "    <tr>\n",
       "      <th>8</th>\n",
       "      <td>Gradient Boosting Classifier</td>\n",
       "      <td>0.242538</td>\n",
       "      <td>0.086749</td>\n",
       "      <td>0.341601</td>\n",
       "      <td>0.370206</td>\n",
       "    </tr>\n",
       "    <tr>\n",
       "      <th>9</th>\n",
       "      <td>Tuned Gradient Boosting Classifier</td>\n",
       "      <td>1.000000</td>\n",
       "      <td>0.550258</td>\n",
       "      <td>0.000000</td>\n",
       "      <td>0.259794</td>\n",
       "    </tr>\n",
       "    <tr>\n",
       "      <th>10</th>\n",
       "      <td>XGBoost Classifier</td>\n",
       "      <td>0.200350</td>\n",
       "      <td>-0.005035</td>\n",
       "      <td>0.350985</td>\n",
       "      <td>0.388364</td>\n",
       "    </tr>\n",
       "    <tr>\n",
       "      <th>11</th>\n",
       "      <td>Tuned XGBoost Classifier</td>\n",
       "      <td>0.286643</td>\n",
       "      <td>0.091338</td>\n",
       "      <td>0.331507</td>\n",
       "      <td>0.369274</td>\n",
       "    </tr>\n",
       "    <tr>\n",
       "      <th>12</th>\n",
       "      <td>Stacking Classifier</td>\n",
       "      <td>1.000000</td>\n",
       "      <td>0.522723</td>\n",
       "      <td>0.000000</td>\n",
       "      <td>0.267629</td>\n",
       "    </tr>\n",
       "  </tbody>\n",
       "</table>\n",
       "</div>"
      ],
      "text/plain": [
       "                                 Model  Train_r2  ...  Train_RMSE  Test_RMSE\n",
       "0                        Decision Tree  1.000000  ...    0.000000   0.348155\n",
       "1                  Tuned Decision Tree  0.668251  ...    0.226070   0.356946\n",
       "2                              Bagging  0.938636  ...    0.097229   0.293408\n",
       "3                        Tuned Bagging  0.992329  ...    0.034376   0.299218\n",
       "4                        Random Forest  1.000000  ...    0.000000   0.292232\n",
       "5                  Tuned Random Forest  1.000000  ...    0.000000   0.283864\n",
       "6                  AdaBoost Classifier  0.031599  ...    0.386248   0.399724\n",
       "7            Tuned AdaBoost Classifier  0.037352  ...    0.385099   0.391894\n",
       "8         Gradient Boosting Classifier  0.242538  ...    0.341601   0.370206\n",
       "9   Tuned Gradient Boosting Classifier  1.000000  ...    0.000000   0.259794\n",
       "10                  XGBoost Classifier  0.200350  ...    0.350985   0.388364\n",
       "11            Tuned XGBoost Classifier  0.286643  ...    0.331507   0.369274\n",
       "12                 Stacking Classifier  1.000000  ...    0.000000   0.267629\n",
       "\n",
       "[13 rows x 5 columns]"
      ]
     },
     "execution_count": 215,
     "metadata": {
      "tags": []
     },
     "output_type": "execute_result"
    }
   ],
   "source": [
    "comparison_frame = pd.DataFrame({'Model':['Decision Tree','Tuned Decision Tree',\n",
    "                                          'Bagging', 'Tuned Bagging',\n",
    "                                          'Random Forest','Tuned Random Forest',\n",
    "                                          'AdaBoost Classifier', 'Tuned AdaBoost Classifier',\n",
    "                                          'Gradient Boosting Classifier', 'Tuned Gradient Boosting Classifier',\n",
    "                                          'XGBoost Classifier',  'Tuned XGBoost Classifier','Stacking Classifier'], \n",
    "                                          'Train_r2': r2_train,'Test_r2': r2_test,\n",
    "                                          'Train_RMSE':rmse_train,'Test_RMSE':rmse_test}) \n",
    "comparison_frame"
   ]
  },
  {
   "cell_type": "markdown",
   "metadata": {
    "id": "2d7eYUUjO-VO"
   },
   "source": [
    "\n",
    "\n",
    "*   Here the Tuned Gradient Boosting Classifier is giving us the best result with an R2 of 0.55 on the test data and an RMSE of 0.26.\n",
    "*   The top three models are the Tuned Gradient Boosting Classifier, the Stacking Classifier, and the Tuned Random Forest."
   ]
  },
  {
   "cell_type": "markdown",
   "metadata": {
    "id": "ke1u0mot_2Bo"
   },
   "source": [
    "# **Recommendation To Business**\n",
    "\n",
    "Although we did not get very good recall scores in any of the models, and there is some amount of overfitting going on with the training data set, some common themes have come out from all the models combined.\n",
    "\n",
    "These common themes form the basis of my recommendation to the Travel Agency.\n",
    "1. Target customers with higher monthly incomes because they are more likely to buy travel packages.\n",
    "2. Older customers are more likely to buy travel packages, so target them. However, our visuals also showed that people over 40 are less likely to buy travel packages, so take that into account.\n",
    "3. Number of followups with customers, as well as spending at least 20 minutes on the sales pitch are very important. So have your sales people be persistent and patient with the customers to make their pitch.\n",
    "4. A high score on the sales pitches has also come out as an important factor, so put a lot of effort into preparing persuasive sales pitches.\n",
    "5. Other factors to look out for are the number of trips a customer has taken and the presence of a passport. People who have travel often tend to buy more travel packages, so target them in your campaigns."
   ]
  }
 ],
 "metadata": {
  "colab": {
   "collapsed_sections": [],
   "name": "Jaideep_Project_4.ipynb",
   "provenance": []
  },
  "kernelspec": {
   "display_name": "Python 3",
   "language": "python",
   "name": "python3"
  },
  "language_info": {
   "codemirror_mode": {
    "name": "ipython",
    "version": 3
   },
   "file_extension": ".py",
   "mimetype": "text/x-python",
   "name": "python",
   "nbconvert_exporter": "python",
   "pygments_lexer": "ipython3",
   "version": "3.9.2"
  }
 },
 "nbformat": 4,
 "nbformat_minor": 1
}
